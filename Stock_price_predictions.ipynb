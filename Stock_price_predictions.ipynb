{
  "nbformat": 4,
  "nbformat_minor": 0,
  "metadata": {
    "kernelspec": {
      "display_name": "Python 3",
      "language": "python",
      "name": "python3"
    },
    "language_info": {
      "codemirror_mode": {
        "name": "ipython",
        "version": 3
      },
      "file_extension": ".py",
      "mimetype": "text/x-python",
      "name": "python",
      "nbconvert_exporter": "python",
      "pygments_lexer": "ipython3",
      "version": "3.8.2"
    },
    "colab": {
      "name": "Stock price predictions.ipynb",
      "provenance": []
    }
  },
  "cells": [
    {
      "cell_type": "markdown",
      "metadata": {
        "id": "kKektlbG9gr4"
      },
      "source": [
        "   ### LSTM :This program uses artificial recurrent neural network called LOng Short Term Memory (LSTM)\n",
        "   #### To predict the closing stock price of a corporation using the previous days stock price"
      ]
    },
    {
      "cell_type": "markdown",
      "metadata": {
        "id": "QueVRDaz9gr8"
      },
      "source": [
        "###  "
      ]
    },
    {
      "cell_type": "markdown",
      "metadata": {
        "id": "pICb6ALU9gr9"
      },
      "source": [
        "### Task 1 : Imports"
      ]
    },
    {
      "cell_type": "code",
      "metadata": {
        "id": "8h1ksyeE9gr-"
      },
      "source": [
        "import math\n",
        "import pandas_datareader as web\n",
        "import numpy as np\n",
        "import pandas as pd\n",
        "from sklearn.preprocessing import MinMaxScaler\n",
        "from keras.models import Sequential\n",
        "from keras.layers import Dense,LSTM\n",
        "import matplotlib.pyplot as plt\n",
        "plt.style.use(\"fivethirtyeight\")\n",
        "from matplotlib.ticker import (AutoMinorLocator, MultipleLocator)\n"
      ],
      "execution_count": null,
      "outputs": []
    },
    {
      "cell_type": "code",
      "metadata": {
        "id": "4Le8SqQP-MMG",
        "colab": {
          "base_uri": "https://localhost:8080/",
          "height": 450
        },
        "outputId": "b81c1e74-314a-49f8-bed1-2e18517f66e5"
      },
      "source": [
        "df = web.DataReader(\"AAPL\",data_source = \"yahoo\",start = \"2011-01-01\" , end = \"2020-05-07\")\n",
        "df"
      ],
      "execution_count": null,
      "outputs": [
        {
          "output_type": "execute_result",
          "data": {
            "text/html": [
              "<div>\n",
              "<style scoped>\n",
              "    .dataframe tbody tr th:only-of-type {\n",
              "        vertical-align: middle;\n",
              "    }\n",
              "\n",
              "    .dataframe tbody tr th {\n",
              "        vertical-align: top;\n",
              "    }\n",
              "\n",
              "    .dataframe thead th {\n",
              "        text-align: right;\n",
              "    }\n",
              "</style>\n",
              "<table border=\"1\" class=\"dataframe\">\n",
              "  <thead>\n",
              "    <tr style=\"text-align: right;\">\n",
              "      <th></th>\n",
              "      <th>High</th>\n",
              "      <th>Low</th>\n",
              "      <th>Open</th>\n",
              "      <th>Close</th>\n",
              "      <th>Volume</th>\n",
              "      <th>Adj Close</th>\n",
              "    </tr>\n",
              "    <tr>\n",
              "      <th>Date</th>\n",
              "      <th></th>\n",
              "      <th></th>\n",
              "      <th></th>\n",
              "      <th></th>\n",
              "      <th></th>\n",
              "      <th></th>\n",
              "    </tr>\n",
              "  </thead>\n",
              "  <tbody>\n",
              "    <tr>\n",
              "      <th>2011-01-03</th>\n",
              "      <td>303.098083</td>\n",
              "      <td>298.538544</td>\n",
              "      <td>298.538544</td>\n",
              "      <td>302.477478</td>\n",
              "      <td>4725600.0</td>\n",
              "      <td>302.477478</td>\n",
              "    </tr>\n",
              "    <tr>\n",
              "      <th>2011-01-04</th>\n",
              "      <td>303.393402</td>\n",
              "      <td>300.360352</td>\n",
              "      <td>303.113098</td>\n",
              "      <td>301.361359</td>\n",
              "      <td>3645300.0</td>\n",
              "      <td>301.361359</td>\n",
              "    </tr>\n",
              "    <tr>\n",
              "      <th>2011-01-05</th>\n",
              "      <td>305.470459</td>\n",
              "      <td>300.325317</td>\n",
              "      <td>300.335327</td>\n",
              "      <td>304.839844</td>\n",
              "      <td>5059500.0</td>\n",
              "      <td>304.839844</td>\n",
              "    </tr>\n",
              "    <tr>\n",
              "      <th>2011-01-06</th>\n",
              "      <td>309.524536</td>\n",
              "      <td>305.330322</td>\n",
              "      <td>305.645660</td>\n",
              "      <td>307.057068</td>\n",
              "      <td>4111400.0</td>\n",
              "      <td>307.057068</td>\n",
              "    </tr>\n",
              "    <tr>\n",
              "      <th>2011-01-07</th>\n",
              "      <td>309.434448</td>\n",
              "      <td>305.370361</td>\n",
              "      <td>308.263275</td>\n",
              "      <td>308.528534</td>\n",
              "      <td>4198100.0</td>\n",
              "      <td>308.528534</td>\n",
              "    </tr>\n",
              "    <tr>\n",
              "      <th>...</th>\n",
              "      <td>...</td>\n",
              "      <td>...</td>\n",
              "      <td>...</td>\n",
              "      <td>...</td>\n",
              "      <td>...</td>\n",
              "      <td>...</td>\n",
              "    </tr>\n",
              "    <tr>\n",
              "      <th>2020-05-01</th>\n",
              "      <td>1351.430054</td>\n",
              "      <td>1309.660034</td>\n",
              "      <td>1324.089966</td>\n",
              "      <td>1317.319946</td>\n",
              "      <td>2443600.0</td>\n",
              "      <td>1317.319946</td>\n",
              "    </tr>\n",
              "    <tr>\n",
              "      <th>2020-05-04</th>\n",
              "      <td>1324.469971</td>\n",
              "      <td>1296.010010</td>\n",
              "      <td>1308.130005</td>\n",
              "      <td>1322.900024</td>\n",
              "      <td>1540300.0</td>\n",
              "      <td>1322.900024</td>\n",
              "    </tr>\n",
              "    <tr>\n",
              "      <th>2020-05-05</th>\n",
              "      <td>1371.010010</td>\n",
              "      <td>1335.030029</td>\n",
              "      <td>1337.500000</td>\n",
              "      <td>1349.020020</td>\n",
              "      <td>1983300.0</td>\n",
              "      <td>1349.020020</td>\n",
              "    </tr>\n",
              "    <tr>\n",
              "      <th>2020-05-06</th>\n",
              "      <td>1368.689941</td>\n",
              "      <td>1345.130005</td>\n",
              "      <td>1358.000000</td>\n",
              "      <td>1345.430054</td>\n",
              "      <td>1586600.0</td>\n",
              "      <td>1345.430054</td>\n",
              "    </tr>\n",
              "    <tr>\n",
              "      <th>2020-05-07</th>\n",
              "      <td>1376.000000</td>\n",
              "      <td>1352.540039</td>\n",
              "      <td>1361.310059</td>\n",
              "      <td>1369.280029</td>\n",
              "      <td>1532600.0</td>\n",
              "      <td>1369.280029</td>\n",
              "    </tr>\n",
              "  </tbody>\n",
              "</table>\n",
              "<p>2352 rows × 6 columns</p>\n",
              "</div>"
            ],
            "text/plain": [
              "                   High          Low  ...     Volume    Adj Close\n",
              "Date                                  ...                        \n",
              "2011-01-03   303.098083   298.538544  ...  4725600.0   302.477478\n",
              "2011-01-04   303.393402   300.360352  ...  3645300.0   301.361359\n",
              "2011-01-05   305.470459   300.325317  ...  5059500.0   304.839844\n",
              "2011-01-06   309.524536   305.330322  ...  4111400.0   307.057068\n",
              "2011-01-07   309.434448   305.370361  ...  4198100.0   308.528534\n",
              "...                 ...          ...  ...        ...          ...\n",
              "2020-05-01  1351.430054  1309.660034  ...  2443600.0  1317.319946\n",
              "2020-05-04  1324.469971  1296.010010  ...  1540300.0  1322.900024\n",
              "2020-05-05  1371.010010  1335.030029  ...  1983300.0  1349.020020\n",
              "2020-05-06  1368.689941  1345.130005  ...  1586600.0  1345.430054\n",
              "2020-05-07  1376.000000  1352.540039  ...  1532600.0  1369.280029\n",
              "\n",
              "[2352 rows x 6 columns]"
            ]
          },
          "metadata": {
            "tags": []
          },
          "execution_count": 20
        }
      ]
    },
    {
      "cell_type": "code",
      "metadata": {
        "id": "9d2bPqj1-MJs",
        "colab": {
          "base_uri": "https://localhost:8080/",
          "height": 34
        },
        "outputId": "650e48e9-6246-4674-ff67-0ce1b5910e36"
      },
      "source": [
        "df.shape\n"
      ],
      "execution_count": null,
      "outputs": [
        {
          "output_type": "execute_result",
          "data": {
            "text/plain": [
              "(2352, 6)"
            ]
          },
          "metadata": {
            "tags": []
          },
          "execution_count": 21
        }
      ]
    },
    {
      "cell_type": "code",
      "metadata": {
        "id": "A_xozB2b-MHJ",
        "colab": {
          "base_uri": "https://localhost:8080/",
          "height": 558
        },
        "outputId": "aa8a0c15-4ba3-4ee7-9a83-8e14518b7fca"
      },
      "source": [
        "plt.figure(figsize = (16,8))\n",
        "plt.title(\"Close Price History\",fontdict={'fontname' : \"Comic Sans MS\" }) #I hate the normal font \n",
        "plt.plot(df[\"Close\"],linewidth=2,color='g')\n",
        "plt.xlabel(\"Date\",fontsize = 18)\n",
        "plt.ylabel(\"Close Prize in USD ($)\",fontsize = 18)\n",
        "\n",
        "plt.show()"
      ],
      "execution_count": null,
      "outputs": [
        {
          "output_type": "display_data",
          "data": {
            "image/png": "[encoded data removed]",
            "text/plain": [
              "<Figure size 1152x576 with 1 Axes>"
            ]
          },
          "metadata": {
            "tags": []
          }
        }
      ]
    },
    {
      "cell_type": "code",
      "metadata": {
        "id": "qrYXwkEO-MDR",
        "colab": {
          "base_uri": "https://localhost:8080/",
          "height": 136
        },
        "outputId": "4eda4c7b-2df4-4503-ed92-71f8a4160c4a"
      },
      "source": [
        "data = df.filter(['Close'])\n",
        "dataset = data.values  #this convert CLose to an array of values\n",
        "dataset"
      ],
      "execution_count": null,
      "outputs": [
        {
          "output_type": "execute_result",
          "data": {
            "text/plain": [
              "array([[ 302.47747803],\n",
              "       [ 301.36135864],\n",
              "       [ 304.83984375],\n",
              "       ...,\n",
              "       [1349.02001953],\n",
              "       [1345.43005371],\n",
              "       [1369.2800293 ]])"
            ]
          },
          "metadata": {
            "tags": []
          },
          "execution_count": 23
        }
      ]
    },
    {
      "cell_type": "code",
      "metadata": {
        "id": "qsGSa4F9-L_9",
        "colab": {
          "base_uri": "https://localhost:8080/",
          "height": 34
        },
        "outputId": "dc55fcb8-f89e-4533-a8a8-f6e34438cb81"
      },
      "source": [
        "training_data_len = math.ceil(len(dataset)*0.8)\n",
        "training_data_len"
      ],
      "execution_count": null,
      "outputs": [
        {
          "output_type": "execute_result",
          "data": {
            "text/plain": [
              "1882"
            ]
          },
          "metadata": {
            "tags": []
          },
          "execution_count": 24
        }
      ]
    },
    {
      "cell_type": "code",
      "metadata": {
        "id": "5WYE4Qrm-L8i",
        "colab": {
          "base_uri": "https://localhost:8080/",
          "height": 136
        },
        "outputId": "01178cb9-b1b2-49e6-ee9b-884bb6eb21e5"
      },
      "source": [
        "scalar = MinMaxScaler(feature_range=(0,1)) #Transform features by scaling each feature to a given range. This estimator scales and translates each feature individually such that it is in the given range on the training set,\n",
        "scaled_data =scalar.fit_transform(dataset)\n",
        "scaled_data"
      ],
      "execution_count": null,
      "outputs": [
        {
          "output_type": "execute_result",
          "data": {
            "text/plain": [
              "array([[0.05034198],\n",
              "       [0.04947488],\n",
              "       [0.05217726],\n",
              "       ...,\n",
              "       [0.86338485],\n",
              "       [0.86059586],\n",
              "       [0.87912454]])"
            ]
          },
          "metadata": {
            "tags": []
          },
          "execution_count": 25
        }
      ]
    },
    {
      "cell_type": "code",
      "metadata": {
        "id": "Br9I-Xyn-L5p"
      },
      "source": [
        "train_data = scaled_data[0:training_data_len, :]"
      ],
      "execution_count": null,
      "outputs": []
    },
    {
      "cell_type": "code",
      "metadata": {
        "id": "m8RgIbwL-L22",
        "colab": {
          "base_uri": "https://localhost:8080/",
          "height": 646
        },
        "outputId": "e38c9ca9-d0fa-4b9c-be87-deff08f2b333"
      },
      "source": [
        "x_train =[]  #this will be independent variables\n",
        "y_train = [] #this is for independent variables\n",
        "for i in range(60,len(train_data)):\n",
        "    x_train.append(train_data[i-60:i,0])\n",
        "    y_train.append(train_data[i,0])\n",
        "    if i<=61:\n",
        "        print(x_train) #while 61 there will be 2 passthroughs and 2nd passthroughs first number is the 1st passthroughs 2nd number\n",
        "        print(y_train)"
      ],
      "execution_count": null,
      "outputs": [
        {
          "output_type": "stream",
          "text": [
            "[array([0.05034198, 0.04947488, 0.05217726, 0.05389979, 0.05504295,\n",
            "       0.05417585, 0.05487576, 0.05521014, 0.05514015, 0.0580525 ,\n",
            "       0.06405994, 0.06099595, 0.05905957, 0.05325043, 0.05295882,\n",
            "       0.05639218, 0.05506628, 0.05517904, 0.04903551, 0.04879053,\n",
            "       0.05294326, 0.05331653, 0.05259719, 0.05291993, 0.05420696,\n",
            "       0.05579729, 0.05506628, 0.05504295, 0.05817692, 0.05959617,\n",
            "       0.05804083, 0.05806805, 0.05847243, 0.06034659, 0.05262052,\n",
            "       0.05305213, 0.05208006, 0.05255442, 0.05386091, 0.04894608,\n",
            "       0.04895775, 0.05236778, 0.04889162, 0.04540771, 0.04566044,\n",
            "       0.04545048, 0.04099058, 0.03959468, 0.03698173, 0.03681454,\n",
            "       0.0319697 , 0.03362613, 0.03350948, 0.03951303, 0.03983186,\n",
            "       0.04171381, 0.04355298, 0.04077284, 0.03906975, 0.04154662])]\n",
            "[0.04158938638201379]\n",
            "[array([0.05034198, 0.04947488, 0.05217726, 0.05389979, 0.05504295,\n",
            "       0.05417585, 0.05487576, 0.05521014, 0.05514015, 0.0580525 ,\n",
            "       0.06405994, 0.06099595, 0.05905957, 0.05325043, 0.05295882,\n",
            "       0.05639218, 0.05506628, 0.05517904, 0.04903551, 0.04879053,\n",
            "       0.05294326, 0.05331653, 0.05259719, 0.05291993, 0.05420696,\n",
            "       0.05579729, 0.05506628, 0.05504295, 0.05817692, 0.05959617,\n",
            "       0.05804083, 0.05806805, 0.05847243, 0.06034659, 0.05262052,\n",
            "       0.05305213, 0.05208006, 0.05255442, 0.05386091, 0.04894608,\n",
            "       0.04895775, 0.05236778, 0.04889162, 0.04540771, 0.04566044,\n",
            "       0.04545048, 0.04099058, 0.03959468, 0.03698173, 0.03681454,\n",
            "       0.0319697 , 0.03362613, 0.03350948, 0.03951303, 0.03983186,\n",
            "       0.04171381, 0.04355298, 0.04077284, 0.03906975, 0.04154662]), array([0.04947488, 0.05217726, 0.05389979, 0.05504295, 0.05417585,\n",
            "       0.05487576, 0.05521014, 0.05514015, 0.0580525 , 0.06405994,\n",
            "       0.06099595, 0.05905957, 0.05325043, 0.05295882, 0.05639218,\n",
            "       0.05506628, 0.05517904, 0.04903551, 0.04879053, 0.05294326,\n",
            "       0.05331653, 0.05259719, 0.05291993, 0.05420696, 0.05579729,\n",
            "       0.05506628, 0.05504295, 0.05817692, 0.05959617, 0.05804083,\n",
            "       0.05806805, 0.05847243, 0.06034659, 0.05262052, 0.05305213,\n",
            "       0.05208006, 0.05255442, 0.05386091, 0.04894608, 0.04895775,\n",
            "       0.05236778, 0.04889162, 0.04540771, 0.04566044, 0.04545048,\n",
            "       0.04099058, 0.03959468, 0.03698173, 0.03681454, 0.0319697 ,\n",
            "       0.03362613, 0.03350948, 0.03951303, 0.03983186, 0.04171381,\n",
            "       0.04355298, 0.04077284, 0.03906975, 0.04154662, 0.04158939])]\n",
            "[0.04158938638201379, 0.043502436465707645]\n"
          ],
          "name": "stdout"
        }
      ]
    },
    {
      "cell_type": "code",
      "metadata": {
        "id": "-6PmGmo3-L0r",
        "colab": {
          "base_uri": "https://localhost:8080/",
          "height": 34
        },
        "outputId": "91d3e0c2-d467-484f-aeb9-387953956858"
      },
      "source": [
        "x_train,y_train =np.array(x_train),np.array(y_train)\n",
        "x_train.shape #gives the number of rows and columns"
      ],
      "execution_count": null,
      "outputs": [
        {
          "output_type": "execute_result",
          "data": {
            "text/plain": [
              "(1822, 60)"
            ]
          },
          "metadata": {
            "tags": []
          },
          "execution_count": 28
        }
      ]
    },
    {
      "cell_type": "code",
      "metadata": {
        "id": "Nxb8A-bx-Lwm",
        "colab": {
          "base_uri": "https://localhost:8080/",
          "height": 34
        },
        "outputId": "9229f90f-0196-488a-c683-a18a85b6fc44"
      },
      "source": [
        "x_train = np.reshape(x_train,(x_train.shape[0],x_train.shape[1],1) ) #here 1 represents no of features i.e, closing price\n",
        "x_train.shape"
      ],
      "execution_count": null,
      "outputs": [
        {
          "output_type": "execute_result",
          "data": {
            "text/plain": [
              "(1822, 60, 1)"
            ]
          },
          "metadata": {
            "tags": []
          },
          "execution_count": 29
        }
      ]
    },
    {
      "cell_type": "code",
      "metadata": {
        "id": "mZXxmEOg-LsS"
      },
      "source": [
        "model =Sequential()\n",
        "model.add(LSTM(50,return_sequences = True ,input_shape=(x_train.shape[1],1)))# giving 50 neurons true since we are using other LSTM layer ,since very first layer we should give input shape which \n",
        "#is no of time steps no of features which is 1\n",
        "# 2nd layer\n",
        "model.add(LSTM(50,return_sequences = False )) #since we are not using anyh more LSTM layers for the model\n",
        "model.add(Dense(25)) #regular densely connected layer with 25 neurons\n",
        "model.add(Dense(1))"
      ],
      "execution_count": null,
      "outputs": []
    },
    {
      "cell_type": "code",
      "metadata": {
        "id": "kHyr8BeE-9Gv"
      },
      "source": [
        "model.compile(optimizer =\"adam\" ,loss =\"mean_squared_error\") #optimizers are used to improve on loss function\n"
      ],
      "execution_count": null,
      "outputs": []
    },
    {
      "cell_type": "code",
      "metadata": {
        "id": "WCnkyfvX-9Dd",
        "colab": {
          "base_uri": "https://localhost:8080/",
          "height": 68
        },
        "outputId": "415270cb-ab42-47a0-c8f9-f07396a3f759"
      },
      "source": [
        "..model.fit(x_train,y_train,batch_size =1 ,epochs =1) #batchsize is the total no of training examples ,epochs no of iterations data is move forward and backward\n"
      ],
      "execution_count": null,
      "outputs": [
        {
          "output_type": "stream",
          "text": [
            "Epoch 1/1\n",
            "1822/1822 [==============================] - 58s 32ms/step - loss: 0.0013\n"
          ],
          "name": "stdout"
        },
        {
          "output_type": "execute_result",
          "data": {
            "text/plain": [
              "<keras.callbacks.callbacks.History at 0x7f50edd943c8>"
            ]
          },
          "metadata": {
            "tags": []
          },
          "execution_count": 32
        }
      ]
    },
    {
      "cell_type": "code",
      "metadata": {
        "id": "wvevUXz4-9CJ"
      },
      "source": [
        "test_data = scaled_data[training_data_len-60:, :]\n",
        "x_test = []\n",
        "\n",
        "y_test = dataset[training_data_len: , : ]\n",
        "for i in range(60,len(test_data)):\n",
        "    x_test.append(test_data[i-60:i,0])"
      ],
      "execution_count": null,
      "outputs": []
    },
    {
      "cell_type": "code",
      "metadata": {
        "id": "Dh8ITXiU-9AQ"
      },
      "source": [
        "x_test = np.array(x_test) #LSTM model always expects a three dimenstion feature\n",
        "x_test =np.reshape(x_test,(x_test.shape[0],x_test.shape[1],1))\n"
      ],
      "execution_count": null,
      "outputs": []
    },
    {
      "cell_type": "code",
      "metadata": {
        "id": "Bq_ymqUb-873"
      },
      "source": [
        "predictions = model.predict(x_test)\n",
        "predictions = scalar.inverse_transform(predictions)\n"
      ],
      "execution_count": null,
      "outputs": []
    },
    {
      "cell_type": "code",
      "metadata": {
        "id": "Kyd-715h-85y",
        "colab": {
          "base_uri": "https://localhost:8080/",
          "height": 34
        },
        "outputId": "02a1b366-b102-499d-f600-220154d9f2b5"
      },
      "source": [
        "rmse = np.sqrt(np.mean(predictions-y_test)**2)\n",
        "rmse"
      ],
      "execution_count": null,
      "outputs": [
        {
          "output_type": "execute_result",
          "data": {
            "text/plain": [
              "58.12313037628823"
            ]
          },
          "metadata": {
            "tags": []
          },
          "execution_count": 36
        }
      ]
    },
    {
      "cell_type": "code",
      "metadata": {
        "id": "777WB9KU-810",
        "colab": {
          "base_uri": "https://localhost:8080/",
          "height": 119
        },
        "outputId": "21384c20-8d87-495b-87ce-d613634fce15"
      },
      "source": [
        "train = data[:training_data_len]\n",
        "valid = data[training_data_len:]\n",
        "valid[\"Predictions\"] = predictions\n"
      ],
      "execution_count": null,
      "outputs": [
        {
          "output_type": "stream",
          "text": [
            "/usr/local/lib/python3.6/dist-packages/ipykernel_launcher.py:3: SettingWithCopyWarning: \n",
            "A value is trying to be set on a copy of a slice from a DataFrame.\n",
            "Try using .loc[row_indexer,col_indexer] = value instead\n",
            "\n",
            "See the caveats in the documentation: https://pandas.pydata.org/pandas-docs/stable/user_guide/indexing.html#returning-a-view-versus-a-copy\n",
            "  This is separate from the ipykernel package so we can avoid doing imports until\n"
          ],
          "name": "stderr"
        }
      ]
    },
    {
      "cell_type": "code",
      "metadata": {
        "id": "0f7BRA0E-8zr",
        "colab": {
          "base_uri": "https://localhost:8080/",
          "height": 558
        },
        "outputId": "b03fd392-ce12-49f9-fe4c-b09267130b60"
      },
      "source": [
        "plt.figure(figsize=(16,8))\n",
        "plt.title(\"Model\")\n",
        "plt.xlabel(\"Date\",fontsize = 18)\n",
        "plt.ylabel(\"Close Price USD ($)\",fontsize = 18)\n",
        "plt.plot(train[\"Close\"],linewidth=1)\n",
        "plt.plot(valid[[\"Close\",\"Predictions\"]])   #i did understand why two columns required\n",
        "plt.legend([\"Train\",\"Val\",\"Predicitions\"],loc = \"lower right\")\n",
        "plt.show()"
      ],
      "execution_count": null,
      "outputs": [
        {
          "output_type": "display_data",
          "data": {
            "image/png": "[encoded data removed]",
            "text/plain": [
              "<Figure size 1152x576 with 1 Axes>"
            ]
          },
          "metadata": {
            "tags": []
          }
        }
      ]
    },
    {
      "cell_type": "code",
      "metadata": {
        "id": "TevFY22M_ebN",
        "colab": {
          "base_uri": "https://localhost:8080/",
          "height": 34
        },
        "outputId": "5633ceec-5eb3-498b-eb07-949f7aff9061"
      },
      "source": [
        "Google_Quote = web.DataReader(\"GOOGL\",data_source = \"yahoo\",start = \"2011-01-01\" , end = \"2020-05-07\")\n",
        "#new DataFrame:\n",
        "new_df = Google_Quote.filter([\"Close\"])\n",
        "last_60_days = new_df[-60:].values\n",
        "#scale the data or normalize between 0-1:\n",
        "last_60_days_scaled = scalar.transform(last_60_days)\n",
        "#create an empty list\n",
        "x_test = [] \n",
        "#Append the last60 days\n",
        "x_test.append(last_60_days_scaled)\n",
        "#convert x_test data set into numpy array\n",
        "x_test = np.array(x_test)\n",
        "x_test = np.reshape(x_test,(x_test.shape[0],x_test.shape[1],1))\n",
        "#get the predicted scale price\n",
        "pred_price = model.predict(x_test)\n",
        "#undo the scaling\n",
        "pred_price = scalar.inverse_transform(pred_price)\n",
        "print(pred_price)"
      ],
      "execution_count": null,
      "outputs": [
        {
          "output_type": "stream",
          "text": [
            "[[1251.3965]]\n"
          ],
          "name": "stdout"
        }
      ]
    },
    {
      "cell_type": "code",
      "metadata": {
        "id": "m_s1T7wT_eWp",
        "colab": {
          "base_uri": "https://localhost:8080/",
          "height": 142
        },
        "outputId": "b292100e-0626-4adb-bcd4-a3a46f4da589"
      },
      "source": [
        "Google_Quote = web.DataReader(\"GOOGL\",data_source = \"yahoo\",start = \"2020-05-08\" , end = \"2020-05-08\")\n",
        "Google_Quote"
      ],
      "execution_count": null,
      "outputs": [
        {
          "output_type": "execute_result",
          "data": {
            "text/html": [
              "<div>\n",
              "<style scoped>\n",
              "    .dataframe tbody tr th:only-of-type {\n",
              "        vertical-align: middle;\n",
              "    }\n",
              "\n",
              "    .dataframe tbody tr th {\n",
              "        vertical-align: top;\n",
              "    }\n",
              "\n",
              "    .dataframe thead th {\n",
              "        text-align: right;\n",
              "    }\n",
              "</style>\n",
              "<table border=\"1\" class=\"dataframe\">\n",
              "  <thead>\n",
              "    <tr style=\"text-align: right;\">\n",
              "      <th></th>\n",
              "      <th>High</th>\n",
              "      <th>Low</th>\n",
              "      <th>Open</th>\n",
              "      <th>Close</th>\n",
              "      <th>Volume</th>\n",
              "      <th>Adj Close</th>\n",
              "    </tr>\n",
              "    <tr>\n",
              "      <th>Date</th>\n",
              "      <th></th>\n",
              "      <th></th>\n",
              "      <th></th>\n",
              "      <th></th>\n",
              "      <th></th>\n",
              "      <th></th>\n",
              "    </tr>\n",
              "  </thead>\n",
              "  <tbody>\n",
              "    <tr>\n",
              "      <th>2020-05-08</th>\n",
              "      <td>1396.640015</td>\n",
              "      <td>1372.682495</td>\n",
              "      <td>1381.819946</td>\n",
              "      <td>1384.339966</td>\n",
              "      <td>1666487</td>\n",
              "      <td>1384.339966</td>\n",
              "    </tr>\n",
              "    <tr>\n",
              "      <th>2020-05-08</th>\n",
              "      <td>1396.640015</td>\n",
              "      <td>1372.010010</td>\n",
              "      <td>1381.819946</td>\n",
              "      <td>1384.339966</td>\n",
              "      <td>1666300</td>\n",
              "      <td>1384.339966</td>\n",
              "    </tr>\n",
              "  </tbody>\n",
              "</table>\n",
              "</div>"
            ],
            "text/plain": [
              "                   High          Low  ...   Volume    Adj Close\n",
              "Date                                  ...                      \n",
              "2020-05-08  1396.640015  1372.682495  ...  1666487  1384.339966\n",
              "2020-05-08  1396.640015  1372.010010  ...  1666300  1384.339966\n",
              "\n",
              "[2 rows x 6 columns]"
            ]
          },
          "metadata": {
            "tags": []
          },
          "execution_count": 40
        }
      ]
    },
    {
      "cell_type": "code",
      "metadata": {
        "id": "bhqApA6m_eMH"
      },
      "source": [
        ""
      ],
      "execution_count": null,
      "outputs": []
    },
    {
      "cell_type": "code",
      "metadata": {
        "id": "gjLbuLr1-8wZ"
      },
      "source": [
        ""
      ],
      "execution_count": null,
      "outputs": []
    },
    {
      "cell_type": "code",
      "metadata": {
        "id": "sNa4VWFT-8tT"
      },
      "source": [
        ""
      ],
      "execution_count": null,
      "outputs": []
    },
    {
      "cell_type": "code",
      "metadata": {
        "id": "thTdWGI9-8rw"
      },
      "source": [
        ""
      ],
      "execution_count": null,
      "outputs": []
    },
    {
      "cell_type": "code",
      "metadata": {
        "id": "MQtuBGVD-8iw"
      },
      "source": [
        ""
      ],
      "execution_count": null,
      "outputs": []
    },
    {
      "cell_type": "code",
      "metadata": {
        "id": "MEZ2Hr96-Lmm"
      },
      "source": [
        ""
      ],
      "execution_count": null,
      "outputs": []
    },
    {
      "cell_type": "code",
      "metadata": {
        "id": "LZmq39f99gsJ"
      },
      "source": [
        ""
      ],
      "execution_count": null,
      "outputs": []
    },
    {
      "cell_type": "markdown",
      "metadata": {
        "id": "59HDNx1G9gsQ"
      },
      "source": [
        ""
      ]
    },
    {
      "cell_type": "markdown",
      "metadata": {
        "id": "JkDkn5i29gsf"
      },
      "source": [
        "### Task 3 : Visualize the Closing Price"
      ]
    },
    {
      "cell_type": "code",
      "metadata": {
        "id": "RivTZXSy9gsg"
      },
      "source": [
        ""
      ],
      "execution_count": null,
      "outputs": []
    },
    {
      "cell_type": "code",
      "metadata": {
        "id": "f9o3ln9h9gsm"
      },
      "source": [
        ""
      ],
      "execution_count": null,
      "outputs": []
    },
    {
      "cell_type": "markdown",
      "metadata": {
        "id": "xkj0lp9G9gsx"
      },
      "source": [
        "### Task 4:  New Data Frame with only Close Column"
      ]
    },
    {
      "cell_type": "code",
      "metadata": {
        "id": "HImPYapR9gsy"
      },
      "source": [
        ""
      ],
      "execution_count": null,
      "outputs": []
    },
    {
      "cell_type": "code",
      "metadata": {
        "id": "r0RKS8N39guV"
      },
      "source": [
        ""
      ],
      "execution_count": null,
      "outputs": []
    },
    {
      "cell_type": "code",
      "metadata": {
        "id": "iagHXuwq9guZ"
      },
      "source": [
        ""
      ],
      "execution_count": null,
      "outputs": []
    },
    {
      "cell_type": "code",
      "metadata": {
        "id": "EHafthgc9gue"
      },
      "source": [
        ""
      ],
      "execution_count": null,
      "outputs": []
    },
    {
      "cell_type": "code",
      "metadata": {
        "id": "SIK8ptDR9gul"
      },
      "source": [
        ""
      ],
      "execution_count": null,
      "outputs": []
    },
    {
      "cell_type": "code",
      "metadata": {
        "id": "DBVavzin9gur"
      },
      "source": [
        ""
      ],
      "execution_count": null,
      "outputs": []
    },
    {
      "cell_type": "code",
      "metadata": {
        "id": "Gr7o6UpM9guw"
      },
      "source": [
        ""
      ],
      "execution_count": null,
      "outputs": []
    }
  ]
}