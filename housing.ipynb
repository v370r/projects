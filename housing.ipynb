{
  "nbformat": 4,
  "nbformat_minor": 0,
  "metadata": {
    "colab": {
      "name": "housing.ipynb",
      "provenance": [],
      "collapsed_sections": [],
      "authorship_tag": "ABX9TyMY+yHWc2lmCV7YQg4g8RE2",
      "include_colab_link": true
    },
    "kernelspec": {
      "name": "python3",
      "display_name": "Python 3"
    }
  },
  "cells": [
    {
      "cell_type": "markdown",
      "metadata": {
        "id": "view-in-github",
        "colab_type": "text"
      },
      "source": [
        "<a href=\"https://colab.research.google.com/github/v370r/projects/blob/master/housing.ipynb\" target=\"_parent\"><img src=\"https://colab.research.google.com/assets/colab-badge.svg\" alt=\"Open In Colab\"/></a>"
      ]
    },
    {
      "cell_type": "code",
      "metadata": {
        "id": "ntoQQ59vb9fq"
      },
      "source": [
        "import pandas as pd"
      ],
      "execution_count": 50,
      "outputs": []
    },
    {
      "cell_type": "code",
      "metadata": {
        "colab": {
          "base_uri": "https://localhost:8080/"
        },
        "id": "OwX-bTaseh4w",
        "outputId": "9f9b33ea-db7f-4072-c28d-7f43b159e6d7"
      },
      "source": [
        "from google.colab import drive\n",
        "drive.mount('/content/drive')"
      ],
      "execution_count": 51,
      "outputs": [
        {
          "output_type": "stream",
          "text": [
            "Drive already mounted at /content/drive; to attempt to forcibly remount, call drive.mount(\"/content/drive\", force_remount=True).\n"
          ],
          "name": "stdout"
        }
      ]
    },
    {
      "cell_type": "code",
      "metadata": {
        "id": "CMWUofzvcBmM"
      },
      "source": [
        "test_file = \"/content/drive/MyDrive/kaggle/home-data-for-ml-course/train.csv\"\n",
        "data = pd.read_csv(test_file,index_col=\"Id\") #making index column as start\n",
        "data.describe()"
      ],
      "execution_count": null,
      "outputs": []
    },
    {
      "cell_type": "code",
      "metadata": {
        "id": "wpjRP__Xcmga"
      },
      "source": [
        "data.dtypes"
      ],
      "execution_count": null,
      "outputs": []
    },
    {
      "cell_type": "code",
      "metadata": {
        "id": "fO2-peuxc3Jj"
      },
      "source": [
        "data.columns"
      ],
      "execution_count": null,
      "outputs": []
    },
    {
      "cell_type": "code",
      "metadata": {
        "id": "47c-ZnKfc5FH"
      },
      "source": [
        "data.head()"
      ],
      "execution_count": null,
      "outputs": []
    },
    {
      "cell_type": "code",
      "metadata": {
        "id": "jXQAtAaFc7S6"
      },
      "source": [
        "  data[\"LotArea\"].dtype"
      ],
      "execution_count": null,
      "outputs": []
    },
    {
      "cell_type": "code",
      "metadata": {
        "id": "iGFEunQ4c9J9"
      },
      "source": [
        "%%time\n",
        "data1 = pd.DataFrame()\n",
        "for x in data.columns:\n",
        "    data1[x] = data[x].astype(\"object\")\n",
        "data1.dtypes"
      ],
      "execution_count": null,
      "outputs": []
    },
    {
      "cell_type": "code",
      "metadata": {
        "id": "Q2e58rkOc_J3"
      },
      "source": [
        "data.describe()"
      ],
      "execution_count": null,
      "outputs": []
    },
    {
      "cell_type": "code",
      "metadata": {
        "id": "IVv9BPl7dWXq"
      },
      "source": [
        "round(data[\"LotArea\"].mean(),2)"
      ],
      "execution_count": null,
      "outputs": []
    },
    {
      "cell_type": "code",
      "metadata": {
        "id": "Zf3t98Nydabp"
      },
      "source": [
        "data.isnull().sum()"
      ],
      "execution_count": null,
      "outputs": []
    },
    {
      "cell_type": "code",
      "metadata": {
        "id": "n7q1FbSoedBG"
      },
      "source": [
        "data.dropna(axis=0)"
      ],
      "execution_count": null,
      "outputs": []
    },
    {
      "cell_type": "code",
      "metadata": {
        "id": "MiJ-YSDHeffi"
      },
      "source": [
        "data.isnull().sum()"
      ],
      "execution_count": null,
      "outputs": []
    },
    {
      "cell_type": "code",
      "metadata": {
        "id": "u2MfYpbweivx"
      },
      "source": [
        "Y = data.SalePrice"
      ],
      "execution_count": 63,
      "outputs": []
    },
    {
      "cell_type": "code",
      "metadata": {
        "id": "AJWMBULTek60"
      },
      "source": [
        "feature_names = [\"LotArea\",\"YearBuilt\",\"1stFlrSF\",\"2ndFlrSF\",\"FullBath\",\"BedroomAbvGr\",\"TotRmsAbvGrd\"]\n",
        "x = data[feature_names]\n",
        "x.describe(include= \"all\")"
      ],
      "execution_count": null,
      "outputs": []
    },
    {
      "cell_type": "code",
      "metadata": {
        "id": "aUQS8tkAemX0"
      },
      "source": [
        "x.head()"
      ],
      "execution_count": null,
      "outputs": []
    },
    {
      "cell_type": "markdown",
      "metadata": {
        "id": "Hn7YzKnierZ3"
      },
      "source": [
        "# Model Fit"
      ]
    },
    {
      "cell_type": "markdown",
      "metadata": {
        "id": "JX8XMtKWeujf"
      },
      "source": [
        "`Decision tree regressor`"
      ]
    },
    {
      "cell_type": "code",
      "metadata": {
        "id": "-OUygjXHeos2"
      },
      "source": [
        "from sklearn.tree import DecisionTreeRegressor\n",
        "iowa_model = DecisionTreeRegressor(random_state=2)"
      ],
      "execution_count": 66,
      "outputs": []
    },
    {
      "cell_type": "code",
      "metadata": {
        "id": "kdkf17Qpeyee"
      },
      "source": [
        "iowa_model.fit(x,Y)"
      ],
      "execution_count": null,
      "outputs": []
    },
    {
      "cell_type": "code",
      "metadata": {
        "id": "1ohrbryQgDdw"
      },
      "source": [
        "z = x[:1]\n",
        "z[\"LotArea\"] = 8000\n",
        "z[\"YearBuilt\"] =2000\n",
        "z[\"TotRmsAbvGrd\"]= 6.5\n",
        "z"
      ],
      "execution_count": null,
      "outputs": []
    },
    {
      "cell_type": "code",
      "metadata": {
        "id": "HZPYNJFTe_32"
      },
      "source": [
        "\n",
        "predictions= iowa_model.predict(z)\n",
        "predictions"
      ],
      "execution_count": null,
      "outputs": []
    },
    {
      "cell_type": "code",
      "metadata": {
        "id": "F0QRACR9f8En"
      },
      "source": [
        "from sklearn.model_selection import train_test_split\n",
        "train_x,test_x,train_y,test_y = train_test_split(x,Y,random_state=1,test_size=0.6) #train_test_split(X, y, train_size=0.8, test_size=0.2,random_state=0)\n",
        "model = DecisionTreeRegressor(random_state=1)\n",
        "model.fit(train_x,train_y)\n"
      ],
      "execution_count": null,
      "outputs": []
    },
    {
      "cell_type": "code",
      "metadata": {
        "id": "Dn8iERyhfmbr"
      },
      "source": [
        "train_x.shape"
      ],
      "execution_count": null,
      "outputs": []
    },
    {
      "cell_type": "code",
      "metadata": {
        "id": "S8ovnTQbiTXf"
      },
      "source": [
        "test_x.shape"
      ],
      "execution_count": null,
      "outputs": []
    },
    {
      "cell_type": "code",
      "metadata": {
        "id": "t4qubUijkFdt"
      },
      "source": [
        "predict_y= model.predict(test_x)\n",
        "print(predict_y[:5])"
      ],
      "execution_count": null,
      "outputs": []
    },
    {
      "cell_type": "code",
      "metadata": {
        "id": "ojo-ZDRp5tYH"
      },
      "source": [
        "from sklearn.metrics import r2_score  #r2 or coeefiecent of determination\n",
        "r2_score(test_y,predict_y)"
      ],
      "execution_count": null,
      "outputs": []
    },
    {
      "cell_type": "code",
      "metadata": {
        "id": "WHpbmUYVirfh"
      },
      "source": [
        "from sklearn.ensemble import RandomForestRegressor\n",
        "? RandomForestRegressor"
      ],
      "execution_count": 75,
      "outputs": []
    },
    {
      "cell_type": "code",
      "metadata": {
        "id": "q1Q55t_6gwJ1"
      },
      "source": [
        "\"\"\"\n",
        "import os\n",
        "if not os.path.exists(\"../input/train.csv\"):\n",
        "    os.symlink(\"../input/home-data-for-ml-course/train.csv\", \"../input/train.csv\")  #(src,destination)\n",
        "    os.symlink(\"../input/home-data-for-ml-course/test.csv\",\n",
        "  \"\"\""
      ],
      "execution_count": null,
      "outputs": []
    },
    {
      "cell_type": "code",
      "metadata": {
        "id": "5CraYWhChB6e"
      },
      "source": [
        "\"\"\"\n",
        "from sklearn.ensemble import RandomForestRegressor\n",
        "\n",
        "# Define the models\n",
        "model_1 = RandomForestRegressor(n_estimators=50, random_state=0)\n",
        "model_2 = RandomForestRegressor(n_estimators=100, random_state=0)\n",
        "model_3 = RandomForestRegressor(n_estimators=100, criterion='mae', random_state=0)\n",
        "model_4 = RandomForestRegressor(n_estimators=200, min_samples_split=20, random_state=0)\n",
        "model_5 = RandomForestRegressor(n_estimators=100, max_depth=7, random_state=0)\n",
        "\n",
        "models = [model_1, model_2, model_3, model_4, model_5]\n",
        "print(models)\n",
        "\"\"\""
      ],
      "execution_count": null,
      "outputs": []
    },
    {
      "cell_type": "code",
      "metadata": {
        "id": "vEtqj6WllBDd"
      },
      "source": [
        "%%time\n",
        "from sklearn.metrics import mean_absolute_error\n",
        "test_mae = abs(predict_y-test_y).mean()\n",
        "test_mae"
      ],
      "execution_count": null,
      "outputs": []
    },
    {
      "cell_type": "code",
      "metadata": {
        "id": "BUm5XzB1n-oZ"
      },
      "source": [
        "from sklearn.metrics import mean_absolute_error\n",
        "from sklearn.metrics import r2_score\n",
        "from sklearn.tree import DecisionTreeRegressor\n",
        "def get_mae(max_leaf_node,train_x,test_x,train_y,test_y):\n",
        "  model = DecisionTreeRegressor(max_leaf_nodes=max_leaf_node,random_state=1)\n",
        "  model.fit(train_x,train_y)\n",
        "  predictions = model.predict(test_x)\n",
        "  mae  = mean_absolute_error(test_y,predictions)\n",
        "  return(mae)"
      ],
      "execution_count": 79,
      "outputs": []
    },
    {
      "cell_type": "code",
      "metadata": {
        "id": "apGS4l7oly7a"
      },
      "source": [
        "%%time\n",
        "ret = float(\"inf\")\n",
        "for max_leaf_nodes in range(2,1000,10):\n",
        "  my_mae = get_mae(max_leaf_nodes,train_x,test_x,train_y,test_y)\n",
        "  ret = min(ret,my_mae)\n",
        "print(ret)"
      ],
      "execution_count": null,
      "outputs": []
    },
    {
      "cell_type": "code",
      "metadata": {
        "id": "sYZxFK48Yfin"
      },
      "source": [
        "from sklearn.ensemble import RandomForestRegressor\n",
        "def get_mae2(max_leaf_node,train_x,test_x,train_y,test_y):\n",
        "  model = RandomForestRegressor(max_leaf_nodes=max_leaf_node,random_state=1)\n",
        "  model.fit(train_x,train_y)\n",
        "  predictions = model.predict(test_x)\n",
        "  mae  = mean_absolute_error(test_y,predictions)\n",
        "  return(mae)\n"
      ],
      "execution_count": 81,
      "outputs": []
    },
    {
      "cell_type": "code",
      "metadata": {
        "id": "6TRnRwOJYwx3"
      },
      "source": [
        "%%time\n",
        "ret = float(\"inf\")\n",
        "for max_leaf_nodes in range(2,1000,10):\n",
        "  my_mae = get_mae2(max_leaf_nodes,train_x,test_x,train_y,test_y)\n",
        "  ret = min(ret,my_mae)\n",
        "print(ret)"
      ],
      "execution_count": null,
      "outputs": []
    },
    {
      "cell_type": "code",
      "metadata": {
        "id": "rWFDRYvwppWd"
      },
      "source": [
        "from sklearn.ensemble import RandomForestRegressor\n",
        "rf_model = RandomForestRegressor(random_state =1)\n",
        "rf_model.fit(train_x,train_y)\n",
        "rf_predictions = rf_model.predict(test_x)\n",
        "rf_predictions\n",
        "r2_score(test_y,rf_predictions)\n"
      ],
      "execution_count": null,
      "outputs": []
    },
    {
      "cell_type": "code",
      "metadata": {
        "id": "_TDMpeFg4GdH"
      },
      "source": [
        "rf = RandomForestRegressor(n_estimators = 100,\n",
        "                           n_jobs = -1,\n",
        "                           oob_score = True,\n",
        "                           bootstrap = True,\n",
        "                           random_state = 42)\n",
        "rf.fit(train_x, train_y)\n"
      ],
      "execution_count": null,
      "outputs": []
    },
    {
      "cell_type": "code",
      "metadata": {
        "id": "wj2gR_sJ4o79"
      },
      "source": [
        "!pip install rfpimp"
      ],
      "execution_count": null,
      "outputs": []
    },
    {
      "cell_type": "code",
      "metadata": {
        "id": "OCHK8KzPaH4W"
      },
      "source": [
        "from sklearn.metrics import r2_score\n",
        "from rfpimp import permutation_importances\n",
        "def r2(rf, train_x, train_y):\n",
        "    return r2_score(train_y, rf.predict(train_x))\n",
        "perm_imp_rfpimp = permutation_importances(rf, train_x, train_y, r2)"
      ],
      "execution_count": null,
      "outputs": []
    },
    {
      "cell_type": "code",
      "metadata": {
        "id": "JSCRdndt4Obv"
      },
      "source": [
        "perm_imp_rfpimp"
      ],
      "execution_count": null,
      "outputs": []
    },
    {
      "cell_type": "code",
      "metadata": {
        "id": "kVv4p9ULoCl9"
      },
      "source": [
        "test_y.shape"
      ],
      "execution_count": null,
      "outputs": []
    },
    {
      "cell_type": "code",
      "metadata": {
        "id": "nY2a6GJ_oaiX"
      },
      "source": [
        "test_y.index.sort_values(ascending=True)[100:120]"
      ],
      "execution_count": null,
      "outputs": []
    },
    {
      "cell_type": "code",
      "metadata": {
        "id": "ZzansA-7pbx2"
      },
      "source": [
        "predict_y.shape"
      ],
      "execution_count": null,
      "outputs": []
    },
    {
      "cell_type": "code",
      "metadata": {
        "id": "hecC2SfxedY5"
      },
      "source": [
        "output = pd.DataFrame({\"Id\":test_y.index,\"cost\":test_y,'SalePrice rf': rf_predictions,\"sales trees\":predict_y})\n",
        "output.to_csv('/content/drive/MyDrive/kaggle/home-data-for-ml-course/submission.csv', index=False)"
      ],
      "execution_count": 113,
      "outputs": []
    },
    {
      "cell_type": "code",
      "metadata": {
        "id": "4nLLsagn4wIB"
      },
      "source": [
        ""
      ],
      "execution_count": null,
      "outputs": []
    }
  ]
}