{
  "nbformat": 4,
  "nbformat_minor": 0,
  "metadata": {
    "colab": {
      "name": "Interview_ready!.ipynb",
      "provenance": [],
      "collapsed_sections": [
        "wimCMHl2T6OG",
        "bsC7Zv9MV7Lf",
        "CR4X4mryqHMv",
        "-hwQ980ypvyJ"
      ],
      "mount_file_id": "1WftICcMvDDdMoVZbmzyltxpQEGOnTLy_",
      "authorship_tag": "ABX9TyN4N7SUv+HqJtMQmLyPu0JP"
    },
    "kernelspec": {
      "name": "python3",
      "display_name": "Python 3"
    }
  },
  "cells": [
    {
      "cell_type": "markdown",
      "metadata": {
        "id": "XPSp2bVc9hcd"
      },
      "source": [
        "## Python!"
      ]
    },
    {
      "cell_type": "markdown",
      "metadata": {
        "id": "QRkm4zuw9nw8"
      },
      "source": [
        "### Intro:\r\n",
        "    1.Simple easy to learn \r\n",
        "        •Makes the programmer faster\r\n",
        "    2.High level :\r\n",
        "        •closer to humna language\r\n",
        "        •No need to concentrate on low level activites like memory management and securyty\r\n",
        "    3.Platform independent  PVM\r\n",
        "    4.Both compiled and interpreted\r\n",
        "        •compiled to byte code instead PVM witll executeof machine code and then interpreted!\r\n",
        "    5.Dynamically typed\r\n",
        "    6.Embeded\r\n",
        "    Have many flavours:\r\n",
        "        •Cython\r\n",
        "        •Jython\r\n",
        "        soon"
      ]
    },
    {
      "cell_type": "code",
      "metadata": {
        "colab": {
          "base_uri": "https://localhost:8080/"
        },
        "id": "qeDs4c1qhtcS",
        "outputId": "221f661c-a25c-4d59-cf5a-5fc13c520128"
      },
      "source": [
        "from google.colab import drive\r\n",
        "drive.mount('/content/drive')"
      ],
      "execution_count": null,
      "outputs": [
        {
          "output_type": "stream",
          "text": [
            "Drive already mounted at /content/drive; to attempt to forcibly remount, call drive.mount(\"/content/drive\", force_remount=True).\n"
          ],
          "name": "stdout"
        }
      ]
    },
    {
      "cell_type": "markdown",
      "metadata": {
        "id": "BSgUrQnV_MdV"
      },
      "source": [
        "Keywords:\r\n",
        "    total 33 keywords these are also called as reserved words"
      ]
    },
    {
      "cell_type": "code",
      "metadata": {
        "colab": {
          "base_uri": "https://localhost:8080/"
        },
        "id": "PAyFRDZ39eAO",
        "outputId": "6c925f68-0336-4e11-e0cd-67d33d57c695"
      },
      "source": [
        "help(\"keywords\")"
      ],
      "execution_count": null,
      "outputs": [
        {
          "output_type": "stream",
          "text": [
            "\n",
            "Here is a list of the Python keywords.  Enter any keyword to get more help.\n",
            "\n",
            "False               def                 if                  raise\n",
            "None                del                 import              return\n",
            "True                elif                in                  try\n",
            "and                 else                is                  while\n",
            "as                  except              lambda              with\n",
            "assert              finally             nonlocal            yield\n",
            "break               for                 not                 \n",
            "class               from                or                  \n",
            "continue            global              pass                \n",
            "\n"
          ],
          "name": "stdout"
        }
      ]
    },
    {
      "cell_type": "markdown",
      "metadata": {
        "id": "ADPsTbXraBTk"
      },
      "source": [
        "####import math:\r\n",
        "    dir(math)\r\n",
        "    1) print(__builtins__ )\r\n",
        "    2) print(__cached__ )\r\n",
        "    3) print(__doc__)\r\n",
        "    4) print(__file__)\r\n",
        "    5) print(__loader__)\r\n",
        "    6) print(__name__)\r\n",
        "    7) print(__package__)\r\n",
        "    8) print(__spec__)"
      ]
    },
    {
      "cell_type": "code",
      "metadata": {
        "colab": {
          "base_uri": "https://localhost:8080/",
          "height": 35
        },
        "id": "OVbfBOAGZsFO",
        "outputId": "d431f7fe-76a4-485d-e490-36e0e3a83391"
      },
      "source": [
        "import math\r\n",
        "math.sqrt.__doc__"
      ],
      "execution_count": null,
      "outputs": [
        {
          "output_type": "execute_result",
          "data": {
            "application/vnd.google.colaboratory.intrinsic+json": {
              "type": "string"
            },
            "text/plain": [
              "'sqrt(x)\\n\\nReturn the square root of x.'"
            ]
          },
          "metadata": {
            "tags": []
          },
          "execution_count": 89
        }
      ]
    },
    {
      "cell_type": "code",
      "metadata": {
        "colab": {
          "base_uri": "https://localhost:8080/"
        },
        "id": "davGz6LV_PoD",
        "outputId": "1f2a6f75-2644-488c-d058-5c8de81647ec"
      },
      "source": [
        "chr(69),ord(\"A\")"
      ],
      "execution_count": null,
      "outputs": [
        {
          "output_type": "execute_result",
          "data": {
            "text/plain": [
              "('E', 65)"
            ]
          },
          "metadata": {
            "tags": []
          },
          "execution_count": 90
        }
      ]
    },
    {
      "cell_type": "code",
      "metadata": {
        "colab": {
          "base_uri": "https://localhost:8080/"
        },
        "id": "g_GRE4_U_gjv",
        "outputId": "147a0fe7-9951-415d-b072-2cf44b4fc0ba"
      },
      "source": [
        "x=\"234\"\r\n",
        "y=\"234\"\r\n",
        "print(\"-\"*10+\"id()\"+\"-\"*10)\r\n",
        "print(\"-\"*10+\"type()\"+\"-\"*10,type(x))\r\n",
        "print(\"For str and int but for float its wrong id is same points the same referes:\",id(x)==id(y))"
      ],
      "execution_count": null,
      "outputs": [
        {
          "output_type": "stream",
          "text": [
            "----------id()----------\n",
            "----------type()---------- <class 'str'>\n",
            "For str and int but for float its wrong id is same points the same referes: True\n"
          ],
          "name": "stdout"
        }
      ]
    },
    {
      "cell_type": "markdown",
      "metadata": {
        "id": "qI-0oRYLBSYr"
      },
      "source": [
        "Conversions:\r\n",
        "\r\n",
        "*   Binary : 0B -bin()\r\n",
        "*   Octal  : 0o - oct()\r\n",
        "*   Hexal  : 0X - hex()"
      ]
    },
    {
      "cell_type": "code",
      "metadata": {
        "colab": {
          "base_uri": "https://localhost:8080/"
        },
        "id": "XCavpF3VArzF",
        "outputId": "14bb8e42-d9a9-46dd-b267-914890b1aaf3"
      },
      "source": [
        "x is y,eval(\"x\")"
      ],
      "execution_count": null,
      "outputs": [
        {
          "output_type": "execute_result",
          "data": {
            "text/plain": [
              "(True, '234')"
            ]
          },
          "metadata": {
            "tags": []
          },
          "execution_count": 92
        }
      ]
    },
    {
      "cell_type": "markdown",
      "metadata": {
        "id": "wimCMHl2T6OG"
      },
      "source": [
        "#### Set:\r\n",
        "        add vs Update\r\n",
        "        add for one at a time\r\n",
        "        update for many like extend"
      ]
    },
    {
      "cell_type": "code",
      "metadata": {
        "colab": {
          "base_uri": "https://localhost:8080/"
        },
        "id": "5htnvHHRCYCb",
        "outputId": "21a1c967-2fed-45cf-b8bc-02192251af36"
      },
      "source": [
        "print(\"-\"*10+\"Star Pattern\"+\"-\"*10)\r\n",
        "n = 10\r\n",
        "for i in range(n):\r\n",
        "    print(\" \"*(n-i)+\"*\"*i)"
      ],
      "execution_count": null,
      "outputs": [
        {
          "output_type": "stream",
          "text": [
            "----------Star Pattern----------\n",
            "          \n",
            "         *\n",
            "        **\n",
            "       ***\n",
            "      ****\n",
            "     *****\n",
            "    ******\n",
            "   *******\n",
            "  ********\n",
            " *********\n"
          ],
          "name": "stdout"
        }
      ]
    },
    {
      "cell_type": "markdown",
      "metadata": {
        "id": "5XMGIHMyQdJM"
      },
      "source": [
        "#### Finding strings:\r\n",
        "    find(),rfind()\r\n",
        "    index(),rindex()\r\n",
        "    startswith()\r\n",
        "    endswith()\r\n",
        "    isalnum()\r\n",
        "    isalpha()\r\n",
        "    isdigit()\r\n",
        "    islower()\r\n",
        "    isupper()\r\n",
        "    istitle()\r\n",
        "    isspace()"
      ]
    },
    {
      "cell_type": "code",
      "metadata": {
        "colab": {
          "base_uri": "https://localhost:8080/"
        },
        "id": "AkvhJePaQctT",
        "outputId": "5dd608a5-4ec7-49a3-b344-c0379c0ed505"
      },
      "source": [
        "l = [1,2,3,4,5]\r\n",
        "def double(x):\r\n",
        "    return 2**x\r\n",
        "print(list(map(double,l)))"
      ],
      "execution_count": null,
      "outputs": [
        {
          "output_type": "stream",
          "text": [
            "[2, 4, 8, 16, 32]\n"
          ],
          "name": "stdout"
        }
      ]
    },
    {
      "cell_type": "markdown",
      "metadata": {
        "id": "bsC7Zv9MV7Lf"
      },
      "source": [
        "##### Lambda function:\r\n",
        "    Its called as anonymous function it can take many number of inputs but gives only one output"
      ]
    },
    {
      "cell_type": "markdown",
      "metadata": {
        "id": "f5BbXdyPWpds"
      },
      "source": [
        "##### Innerv vs outer:"
      ]
    },
    {
      "cell_type": "code",
      "metadata": {
        "colab": {
          "base_uri": "https://localhost:8080/"
        },
        "id": "4NTvbWwQPBlb",
        "outputId": "94d4b964-4ea6-4d25-e27e-bcb70673fa4f"
      },
      "source": [
        "def outer():\r\n",
        "    print(\"Outer function started\")\r\n",
        "    def inner():\r\n",
        "        print(\"Inner function done\")\r\n",
        "    return inner\r\n",
        "t=outer()\r\n",
        "t()"
      ],
      "execution_count": null,
      "outputs": [
        {
          "output_type": "stream",
          "text": [
            "Outer function started\n",
            "Inner function done\n"
          ],
          "name": "stdout"
        }
      ]
    },
    {
      "cell_type": "markdown",
      "metadata": {
        "id": "tHwEkmAXZAGZ"
      },
      "source": [
        "#### Generators vs Normal Collections wrt Memory Utilization:"
      ]
    },
    {
      "cell_type": "code",
      "metadata": {
        "colab": {
          "base_uri": "https://localhost:8080/"
        },
        "id": "KKe9ByJ-W6Pd",
        "outputId": "ac9920e1-39ea-43bd-e793-afa41cf3b8c9"
      },
      "source": [
        "g=(x*x for x in range(2,100000000000000000))\r\n",
        "print(next(g))"
      ],
      "execution_count": null,
      "outputs": [
        {
          "output_type": "stream",
          "text": [
            "4\n"
          ],
          "name": "stdout"
        }
      ]
    },
    {
      "cell_type": "code",
      "metadata": {
        "colab": {
          "base_uri": "https://localhost:8080/"
        },
        "id": "bwxZMxtdYclZ",
        "outputId": "8e04ba6c-bed8-465f-e5e3-699fc211e180"
      },
      "source": [
        "help(\"next\")"
      ],
      "execution_count": null,
      "outputs": [
        {
          "output_type": "stream",
          "text": [
            "Help on built-in function next in module builtins:\n",
            "\n",
            "next(...)\n",
            "    next(iterator[, default])\n",
            "    \n",
            "    Return the next item from the iterator. If default is given and the iterator\n",
            "    is exhausted, it is returned instead of raising StopIteration.\n",
            "\n"
          ],
          "name": "stdout"
        }
      ]
    },
    {
      "cell_type": "markdown",
      "metadata": {
        "id": "DboITC6JpLJh"
      },
      "source": [
        "Packages"
      ]
    },
    {
      "cell_type": "markdown",
      "metadata": {
        "id": "g0EEomDCpDp6"
      },
      "source": [
        "\r\n",
        "![packages.png](data:image/png;base64,iVBORw0KGgoAAAANSUhEUgAAAYQAAAD6CAIAAAAugKeBAAAAAXNSR0IArs4c6QAAAARnQU1BAACxjwv8YQUAAAAJcEhZcwAADsMAAA7DAcdvqGQAAAASdEVYdFNvZnR3YXJlAEdyZWVuc2hvdF5VCAUAACusSURBVHhe7Z1NaCVZlt/fomB2o9UsHhi00M4kTnCSm6JBDwzatCFrk4tJ46chSSiYWgjKTuFcGBV0i8QpKNHOGY9zQKjljbNrJtDK0CpapD3I7sku2RpPOS0ehlKRqZHpqUlkWThreoRI/+Oeo6P7IuLFi++4EXF+C6H4eHHj3nvif885EXGj9z6KXoibN2+enp7yZkVRlKJJKkZA9UhRlPJIIUZA9UhRlJJIJEbr6+u8QVEUpRzixAh+0NLSEv6ZnZ3lDYqiKOUwUYwoIgNGl3qbm5u8TVEUpQSixcjODS0uLkKM1DlSFKVUosXI5ujoSJ0jRVHKZroYAXWOFEUpm0RiBOcIeoS/vKwoilI0icRIURSlbFSMFEVxAhUjRVGcQMVIScHR0dGLZBwcHPBvFCUZKkadRsRlfX19xbC4uDh/xezsLD3VUQgzMzN83Pn5O3fuUHGATkDFS1Exaj+np6e42jc3N3HlLy0tkRywQrjHzZs3cXrQRJwtzhlnrrdxO4KKUdsQ3YH3kUd0Ho7jZYV/fwUfPT0kUqJQXFulRagYNRtEN9vb27hEcaEmj6qgU9CF1dVV0ou9vb2R4e3bt3zc8nn37h0ViirQaeB8cFYPHjzgs5wG6ivypFFeC1AxahiIWXDtUbTFF+VkSHSePn2KSx2XK658SAAfyG1Iqkintra2UAvUhWs1GbQJWka1qaGoGDUARCUUds3MzPBlFwV2IGeHdId/3C7evHlDCoWaxvtQlC9Hu2lM1xRUjByFBCje/YG/AK9hZ2enrdKTBNQdYSZ5T9wuUdDkXAhpZToKxTVUjBwCY368AMEXQMwF9YGDwL9RxkHLQJvQSjF+k3pMbqJiVDMYqDc3NxcXFyeFYOT+QKeaku5xB0o8Iaab5DShzRHbov3VXXIBFaN6ODo6Wl9fn+QEYVSHAHU5+CqDeGFCHIce0cx3jagYVQppEOyerwALDNEILtQDqgC0MNoZch95h252dnZpaUlVqXpUjKogRoPgBGkOqEbevn2L9o90l1SVKkbFqEROT08nadDq6ure3l6VDxkq8cBdQo+gX7iHLCiC07dSykbFqBS2t7cjQwDSoAYEYifesDc39F7zojBpfYuIUSXKdvN+StGoGBUJBs+VlZXwaxmIxZqhQYm52F+b66oqzczMIHxTR6lwVIyKIdIVwhrP8xoZi7EH9M2J93Gv/9Hw3g1Upz/86eHoC3/98+eQImJubf+CfxPPReBQr/afLfRuLe9+9/79d7vLt3pD74T3dA7KK4UfXJqfn1dHqUBUjHJBWaGwK/T06dNm35i3xai38Gj39enuo35vsOZtUJiW3jMyYmQOdbb/+aDXX3j2s2cL/f7y7tnZ7nL/xn3v20ve013evHmDnr19+zZ3swG9D3dYn1TKj4pRRuClw1cPPKkIVwhDaBvCsTEx+tg7uWD1efKjfGLkH8ocHC7Vn73auNvrffR47ZN+/9HumftaxFD4FnaU9As6OVExSs3BwQHMjg3wisa7QgGmidHlaGMhkRhdnvkuFcKx/x30jDYOL469+32/9Xz/iPdvEuQomf6/BrGbvmiSDRWjFMDIAs9Mw2Pf2tpq4R36aWL0/vzrjaGf/ZmWMwqI0a3BwM82+emnc7hCJlvEmaOmAkfJ87xA7KaSlAEVo0SEZag9EVlFWGHaNaf7az/sNSpGiwGxW+AmhkpSKlSMphApQzA73txISBfiSHePLJarQ0WJkZ+6bmqMNgnYRuB5bpWkhKgYTeTo6Kh1MqRUxGg0UklKi4pRBJChQIpaZUjJQFiS9I5bDCpGY5yenq6srNg37FWGlJwcHBwEckn6XFIkKkbXbG9v248v3r59e2dnh7cpSj4wpNmShAFPn94OoGLkE04PeZ7XxDtlfPYdgyvvPOGHAGB1OkWJ0HUxoriMTcOwurra3OeGuA4dgyvfEGBdgUcll5aWNGoDnRajFy9e2HEZvOimP0XNNekYXPlGAUuzXyiBHW5vb/O2rtJRMcJAhOGIDcGkh+A/87Ymw/XpGFz5BrKzs2NHbRgOu+widVGMAg7Rw4cPW/M+B1epyddncriqDa8sbM+eMmlmZqazLlK3xCjsELXsfhlXTMWoaRwcHKiL1CExQn/b01G3ySESuG4qRg3k3bt3tosE571rT2x3RYzW19e5k1v9ABHXUMWosQRcpJWVFd7QAdpvtXB37YfNHjx40D6HSOBKqhg1Gdin/RLJ/Px8R0K2llttIDTb2triDS2F61ns9Wnerb9i8cmTRfPy/TfecC524uqz0ZefD/HD0ia35jNqqfJ6nsfVM1ntLjwb2WYx2tzclLfM4Pp2ojuv4OVC4FliA5OKvI4Xo4v9tRvDTz8d9FWMMvPmzRs7ZGv96yOt7Uj7rlm7QzMbrnCJYiTTEolndDbyHg38MvuDZW/kz98oTBGsnJiK+vByG3n37p0dsi0uLvKGNtLCjgwkiZ4+fcobOgDXuQQxYuZ+7D0fE6NjfzJsf97YS39C68AEsipGxbC1tcVVNZ+3bWsKqW0diX6yk0Rdm/2Dq12dZ/T8q7GZHgNT9KsYFQYsWUI2WHgrcw6t6kj0kDxajZ5r1ec6kkF1B7xcCLFhmvGMJn31TMWoSOwUUitT2u3pSPSNpKsRpqHneEOXoOoDXi6E+JzR5clLc9PMMFjbPze/oe9fC9h/PP1dBHzszogRePfunbxeC2tv2VORLelIW4nQW02ciqgQqAUAL7carmqXxAgEUtptusXWho5Ef3DPmJc8OqtEgFtBxajt2DMitUaPGt+RthJ16sZZJNwQKkYdoH161OyOVCUKwG3RMbjy3aNletTgjtze3uZ+UCW6gpujY3DlO0mb9KipHWlnrFWJBGqQrsGV7yqt0aNGdqQq0SSoTboGV77DiB7humju80fN68jT01NVIkUJ0AI9apgY2W97dPl5IkUJI3o0OzvbxPfXGiZG8gasKpGiBMAVIc9nN/F92iaJkcwKcvv27Y5MCaKUzZs3b0aj0c7Ojud5W1tbD6+wJ34Iwzs9fLi6uoofAkRGOE7tAyROQM68cfONNEaM7EeKuvnemZIfWM7e3h60AzoSLzd5wMERMUHgapEn+33a9fV1XtsEmiFG9u2zBs0KAkOEOcag/l0FoJ1JfeQSnQqCHd/tiSXV0aBNsNvKuhvXC5fd6zUomd0AMbKT1g7ePiM/37jqvsWnMlMb+i0qiOPAcHFMLkBJDzoFjgnakxs3CnhG2IE6zh8ZsjY4GQA5XOi+qYVinwoEAidDJTYomd0AMZJUEUYYXlUrsDwyO0kWlgd0jS4YmK+6UVOBLmxtbU2Kv9Bf2FqN0KOz0GXoOHTfpMFpdXUVJ1NeHCeyiAbhVW7juhjJOx/o0bquRpgLDAt2nER9SD4A+ThTkaRpkoPTuFqlw98I0BpoyUgNIgFC91Wfu7EhTw3qEylMJflKqLIU14jkkdNiBPdSUkVl9FY8MPF4V590B7ZOqcpCBILSTDSownZjFArXHl1m/MtOgurbX2EVynY68oD+RceFpRNr0OnFDjMoiw6O6+jo6IjXuorTYiQdBtviVeUTM8wCqA+24hoo1mjigUnRuBp5VtDEatIQ7gCVQYOEW8NlDQozKahEb2IT75QbFEGHnZ+f51Wu4q4Y2QFaBeaFImDHkZ4IVkKAoAi8a61ABHGeuOrCDj/WwPKqVMnqQTehLwJ1x/UMbWqKBoWBaUGAuDJXYNgrxOTQLKJ3jgdrjooRAjSZWr/sMR+jEEwhfG27P8yiZSKHVtgxzpx3aguRMoSOc2SQyA9VMNCbhUgSjkBHQ7Dm8p01R8VoZWWFmq/UAA2dhM6mggS6kps1zKIiYT2FWcO4m1WRSaBHwjLUVh8QlQ1IUv7KSrDm8mPZLorR0dERNRzsrySDQ38HIjKU1fQYB7qDegXkFfVqtCRBZwM91WIZsglLUp5+xA9FzZ39poiLYiR9gNbnVcUR9oZg6+h43twKKPDk6hmaKEk4WxnPiY7IkE1AkvA/DJi3pQSHooM4m8l2Towg29RkaHdeVRCw44AMYTFz17oP6huQJDRpU2QX/WJfhO3uqXggyhhIuCEM0Ohs44rY//b2Nq9yCefECLJN7VXgZRPuzu4Yd1iSUPcC7xyXge0Qwafb2dnhDR0mMJRCqTN0Imyefj47O8urXMItMRK3CO3Oq3ITGGPxf6ceySFgyqvjDweWEQLnB+dpZ4hwzs0KLcsGuiypH5BBpkXRHJwt2y0xEreoELclkHSgvAlv6yQBXcZl75SLhNOTK22SQ0RbuwZX3hBwkeD2ptJrl50jh8SoWLcIl5k9xuKY6EXe1m0CEasjQZCkV0GMSvIeHYMrb2F3IporlR456xw5JEaLi4vURvnDKFj21DG2ywSUuvZoyM5qxQ/1vFPH4MqPg8tEjDxVCkmcI9duq7kiRvJsEZqVV2XFtmxccpEOEW/uGFz5KwKja10hm91fU+No3q8bnyfiqk6urD2oQJiS96A4R07lT13pVHnkOs9NNIyodji9tbXFG0LwHh2DK28RSNNUr0e2EiXpet5VxegK2HwGPYIG0U+ceiDblU6lqULQmpnjhUCvxFs27dY1uPLjBG5g5RkM0iJKNLW/BNof8HKr4apOq2w2PaJbGU69reZEp8oL+rBOXpWStP4q7Ql4udVwVSdXFtZs3/ivRo9sJUrukdFPAC+3Gq5qgspm0CMJ0t1JYzvRqXK/OblR2uBX6AA6ArokyV0z2hnwcqvhqk6rbNqIKQ87OztcUsq0Bf9GOy6ErUf4B4u8YQK4TGjnmzdv8qq6qb9T4SVSo2RLXaftA4L2B7zcariqCSpbjR5JwgKkLYV/ph0XhX0tJHk+RhKsjkwCWX+nygfRMtyAz6ZEgH4CeLnVcFWTVdbWo1EJb8xgQBY3NkOP0w8BLxfC2e5ynw/b6y0+ebLY633snXzjDed6Q++EdwpxPvpybdjvzQ2917ymaPiM0lQWl4A0b8wNHAIjAe3pyKRr9V+N8nhRhhhNpD2VEgH6FeDlVsNVTVzZbNmchMjggVJ4VRrot4CXC+HEG/Z6c2v7F7xMvI4Vo/P9tY+Gy58MHBMjgC7jn00LgXHJ0G6OPHBU/9VI99EyxGjyqgeumSR5Ihv6IeDlVsNVTVNZ0SP0SyqVj0eSpmkHD4F+Dni5EMbE6OLE+3jMMzo/9JYXTJkLy97hufkF4//QOTEC4vLg0ohvZxkbXLinVvPVKK+ATHUpA0jeIdvoTb8FvFwAl2e7j66d/eHzr8imv3o+xV6d9PaBmGlRk23aI3Zmh4t/X4IYMXM/9p7bYvTvfrFxt9d/tHv2/bH3Sd//55J/BVwVIyC3R+O7T+4kuDCpSM1iJM86prqlYucdsuVZ6beAlwuARtTB2v7Y2DnNXt319jGiSiMX8j6NqFueo9ERAC8XQpxn9KMn+HsN1lvBnMNiZHdfTO5PRoilpSVeVR81i5G8ps/LyZBUUba8A6CfA14ugIAYXdm0eEYN9PblJSaQ2ZchJHCAJPGqTNBBAC8XQpwYkWf0iXf8G7PrOA6LEZDoIT4HQprlwg3+Qjs1PdRYqQxUHMs86Qw6AuDlAiAjZubWfvl6TIxGo2Z6+5LlSXKreBLoJnQWHSfnHTo6CODlQogTI+/4ZO/z4Q0u9TrLDZd2wCtBzE23HPDBc1RWhu2YAEICutrTRnWKkSh38oRRQudzKnQEwMsFEO8Z/Sffsq9pjLcPJLzKFhEDUbTMnqxAxwG83Gq4qjkqK082xjhH0ju1T9RfZ6fKE0bJrVzu8qRNeAeggwBeLoB4MSLPqJHevgRrGAayuaIyfqS96RmGjgN4udVwVfNVVi6ZSVeZ9O/Kygqvqok6O1Wy1wnzESLzma8KgY4DeLkA4sXo9WWTvX0xaIyivCoxki3K7xYBOhTg5VbDVc1X2anOES4l2qH2N/jr7NS02Wu5JPLf3KHjAF5uNVzVHJWV6DjDMCBRXn63CNChugZXPity4UzKbFDn1v7oY51X482bN9EECbPXSaLf5NChAC+3Gq5qvspKZiGVcyR3jvPkv23oaF2DK58VCcQmOaeS5+blmqizeKp/QjOV560zp1Ft6FCAl1sNVzVfZcWZxyjKqxJQbK8BOlrX4MrnQO5mRjq24jrxck3UVry8rJ8wFZ05TIiEiu4aXPmsiMkmVxa6BlLpl1IGMipEPl3syA212sRIXgRJ4vZLEjTnTTSBjtY1uPJZkZgr4QsiElkX9UKJkhnpu8hITZ7d67oYJclGy3NZOZ8DFuhoXYMrnwPJRifxT2UIKSpGU/JAsUVkylWSSvXO+li/GE3K8NvEtKNSJTKEJtEXCesKuY+m5CSmOxx51Kg2MZKHjKaKkbRUUTGakhmJvCK9/QDkRmnCyBFkIAlfcSpGScVIsmtT91QqgHLSSbxU6rWibuqXzsTn4ONnWWsMojjhLK2KUVIxcuQhCIVIGHxJxjTVc0lOc7G/NlfWU/IVIA9nhL1a2aRiNEWMKGGU8NlIpWxivH2bmHHYUdgz+sZ/j6f/0fCe/+5Of/jTw/Mj4xltePLizvXbPPGYV4KsQ73af7bQu7W8+93799/tLt+qXtfo9CN9VdqkYhRn0zFyXjdXb5/Z798TJb/4Wi8JVUZ2i+9fh7DFqLfwaPf1qT9152Bt/xWHaak9I7IQ/1Bn+58Pev2FZz97ttDvL++e+Z8AuHHf+9aaR6YKKIsXFiPpLBWjdg2wFsZ626ZKMjzE309Af9FuzRQjf4y56j4z/Ut2MTLDlX9weFR/9mrjbq/30eO10JxWlUAZj3C+r+tiJF+RTShGqealrQQxNX8Wrv694T1/Buwbw42vz8msnz/3bdeQ1K83uVLrUL/a5ynZLs3ndFzRNapUfGa6hWJ0ebix0E8kRubbR/3lnx8GPKONw4tj776ZKd33j3jv6piUfu26GMlzRvEq47BNj4lRb/DZ7smxnwiA8EBSfCN+nd4zMjdu/EP9en/th73e3WfeT0yW4df+bP+TpkOqHLqh1jkxen92uGGUZOrYMiZGtwYDf1Ay6Se4QiZbxJmjqpkqRvV+QK1+MYqPvxojRr6x0uRE13MYZRQj/1B08MHay1/5o/HCv1z79FYtY2kkZNNtE6PiscK0a079YaaOGA1Qx4Wf/JI5Vzv6OsjR0RHVv8VidDnaWEgkRpfmM0cYLfcDntHG6MyfM9tvgHrG0kiSiJHYtysdZ7I2MSQOpZMfKkqM2GmqZ1yZ1HFylXVUjADVP/4tykaL0fvzrzfM7I7TDH1cjD4cDCT9hI3GfOsaSyNJIkboL7/bCvrMkVII1CMxYlTvR/frFCP6lmy8TTssRmUQ9bDv+cu1gbkfzMv1k0qM0IO8Sqkb6pHw8E8dCni5JuosPsm0swkfsSsBcnxikOmup5L8UGExEqfJlRgN0EnHixGg3XT+EEeIGR7o+aPaP51WpxgtLS1R68S8WCAtqNNQuAP1yFQxSv4Wm1IBMqNL+P41re/0HNjr6+vUCjFej3r7riEv7k/tEZmFKsnkRwmhA9YIn4cFb6gQLjgl8lJhYFIwucTqfcgI1ClGCe/u0z7q7TuC2O7UzLSE2AU+sEoHrBE+DwveUCFccErIUQ3f1xePaXt7m1fVRJ1iBKgV4oVGvX2nwMhBvRbjzxLxU51mgw5YI3weFryhQrjgNIg/G77WxGOq91YaqFmM6GtF8fNvtcPbr6VQQPUtELnzkqQ7aMaFAgcSKrpG+DwseEOFcMFpEC81nHulwX5mZoaX66NmMZIcdszk1jHtmBk6YJXUUiig+hZIqhldZNSd6kYlhI4GeLkSuEgDr7LgDeWfEheTqSC6XwYCN4vEY3Ih8qi0U8PI67IxCYh2ePu1FAqovkUhz1UnnAJY9i+q7+hogJcrgYs08CoL3lD+KXEx6QsSxQnfAJWEUb1vpRGVdmoY+Xpa/H1i8iTjo7lUUKFVUkuhgOpbFPGf34qE+g4UEmXToQAvVwIXaeBVFryh/FPiYtIXJP5pOLZwJ2EEKu3USOTRxxhjzXANxENHA7xcGlyMKYj/M9DWkuAyDLyqIChGSzUqSMK7kIcz6FCAlyuBizTwKgveUP4pcTEpC8JlFdNrtGl2dpaXa6XSTo1EnjaKSQlJpFbUDX46GuDl0uBiTEH8n4G2lgSXYeBVRZAt5rIvhvzOEZ0A4OVK4CINvMqCN5R/SlxMyoJiBgPp0KWlJV5VK5V2aiTy+n6SG/wgkIHLBh0K8HJpcDGmIP7PQFtLgssw8KoikPtoMXcbIpFYIL9zRMcBvFwJXKSBV1nwhvJPiYtJU1D8SCD9UlTAkZNKO3USdIMfxIyckmlLNSxPgg4FeLk0uBhTEP9noK0lwWUYeFVu5FnHDF9GwPghl0TOsYTOAfByJXCRBl5lwRvKPyUuJk1Bkt+IHAaoUxyJ0UClnToJidRi7qmJxoP8zhEdB/ByaXAxpiD+z0BbS4LLMPCq3IhblO0BCwkWcgbadBDAy5XARRp4lQVvKP+UuJjEBUlyI9ItktHdkRgNVNqpk5B7avEPO4hB53eO6DiAl0uDizEF8X8G2loSXIaBV+VD3KLMT6PgYpBAO09QQEcAvHyNmRrh+rtAj/94ecH8Q5O9GvxJ0W7cG37kzxbVv7/x6pcb9K0OnhohMCXjNX55V/AqC94w/ZTynokpxIeXpyHPFkWO8TK6uHAfjSjGWPOzuLhITRPzdJztHKVNWwSggwBeLg0uxhTE/xloa0lwGQZelY+cbhEh6dLIgTohdATAy9fQPC3yiaEbw42/OA7MvuJLQH/w6MuTM3+KqN7CT7xn9L2DX+8u3+rf944nzF7HRRp4lQVvmH5K1pwzmc6Ei0nWpzJyR4bV8uRR7W/q2xRjrPmRl2bj3XjxLeOfS5oKHQTw8jVmvnSYxek33v0blln4Mw1l+G4HlQLs/wFtFcwEtXTZBD7vl6VcKoLgVTmQJ+BztjmQN3syB2v0c8DL19CV7/sUZupxc+X717zVRNeLZt6oubWXr9Ds/YXHjz/tx80YxUUaeJUFb5h+SnnPhItJ0KfiyYLIYVtS15ubm7zKAQow1qKYnZ2lBopPCcU7nwmhIwBetrj0PybT/3Dw4fjXOIzRpP9uBxdjCuL/DLT1GvMZHN9R9yXG/rxflnK5DAOvyorknkH+Vzps3zZb99FvAS9fEyNG+zzAHH4x7o9sjC6+xZDjH470fQKmQIZXWfCG6aeU90xMIT68PIGpjYwdaKs7qWsir7EWCESa2ig+JWSn5TIHa3QEwMtj0MdkAp/rM6LgryELS/rdDlOIj/0/oK0W34+iP++XpVwuw8CrsiIBWsL3P6ZiD9oZ1I1/GVGvpGLkDzP4ff/+xiEaj3I0U2bIpxIJXmXBG6afUt4zoVIAL09ARutJnqxEcLVPYBQgr7EWS0LnyI6Hs2Uf6OeAly1MxETJxR+u7b81JgJPJON3O0whPvb/gLbaGI/M32TM8SpaPDMfek9Zrr/xCl6VCWnnO3fuZM7yhJHDZhhO6IeAl1MRiNp8Ls/9zyvG9SDgIg28yoI3pDqlTGfCxcQWJPHXpC4Tv2lmZub09JTXukEuYy0c+eb11PtlIv/Z7qzRbwEvC5fGW4bbbPzn/v0vXn1piVH673ZQKcD+H9DWcezP+42LUcpyqQiCV6Vnat4hD3LNpNUj+hXg5VRESIC088QeBFykgVdZ8IZUp5TpTLiYyQUlaVVn3SKQ3VjLAFJNnwwB8c6RncvIkH2gHwJeno6ESxYJvtvBxZiC+D8DbR0n8vN+WcrlMgy8KiUw5TzNmwQZTlK5XfQTwMuVwEUaeJUFbyj/lLiYCQWJEoFJD0+47BaBSjs1CZI5mnrDRW4Vg7S3nPlnKQwoLAoU5Cf18O3/AW0dw/g7IYnJUi6XYeBVaYDJ5nQ8k2CXAj1K6B/R/oCXK4GLNPAqC95Q/ilxMVEF2UoUcy3Ibg66RaDSTk2IZI6mJjgxaNOeIFU2lH9TrQHxfwbaWhJchoFXJcbWCPyT3GfJgF1WwniNdga8XAlcpIFXWfCG8k+JiwkVlFCJ0Ly0j5tuEai0UxMiM67BUnnVZKQnElozQT8BvFwaXIwpiP8z0NaS4DIMvCoZVSoREdCjqSMK7VkjfB4WvKFCuGDTevLoFoiPD+TGqAvzqEVS7lWRGZnkyEvwnretRwnjNdof8HJpcDGmIP7PQFtLgssw8KoEZPBTCsEuF8SnqHin+uDzsOANFULlvn371m63eMvHVtqt9i81xlDuVZEZmVcEV0V8JptI6KkKvGvJogC4GFMQ/2egrSXBZRh41TRsy65SiQjokd2D+B9reNs4vEd98HlY8IYKQaFwIdFNtDi1v9CYsvOLFy94rXuUe1XkQW7zJ3wLwbbmqf4U71chtRQKqL7xwJSTW3Z5yF1nAGWMPA3eXB98Hha8oUKSNJSNhHKLi4u8ykncFaPT01PJZCe8u5xwdAW8U4XUUiig+sYAR1KUCJYd02gVcHBwICcDkgTpnQK6Y4dmUJmp/SU3nZ3NWwvuihGQt2dhoEmCNSCxMYgZNHiPCqmlUED1jQR2bMs3PNB6lYgIpEKSjPwdwXaIQJIRGh0q4l77B2On4rQYAfmwGoySV00jEE5H9hltrZJaCgVU3zCBMbaoV8+KInDh4fRcEMq6gEnLbFAguUDLHTT8nFc5jOtiBGRS2uQXTGB0RZckdKw6gn2pQ6+TpPyrJyCXzp5nqcBu7Zv3IHnoKk/hzc7OOh6gEQ0QIwS98o7IpOfcI5EJgMEkF6lrBK7w5GNsXeDaEz8XYITviCRBhuwgGqQaU+FM8c/cvoNm0wAxAvKOCOwy1cUT9m+xhrd1DIQ5tjqD5GNsvYQvy3ZLUmR9Uw3DdqrIzTc/ImmGGAGZlxaCkip9EL4I0dPJR5h2EPAv3HeIwmAUkQwIgUsU3m6bckmoY0CG0GsZxgxxftFEvKoJNEaMEPRK8ghGyWsTg26WHiI6IknwIGzfEMbd6HA1LEmoEbqycdpqAz1FNwXsk2Qog9SKnOF6aUSqSGiMGAG0rCSP0OK8Ng2BKxO0VZLIvsOVbYcfEfYgAC5m6GyzehPBFypiO60gj8cH/aKD4EpJFdm5QJPECNjJ7GwjPPo4ELOA1dVV2Dfv0XBwNYYr2ErNRY0QgAdqCtxXpUgNAnD68uTC8Fs+UBOeKgrTMDECkswGmXsuUpJoRGruRQsTD9wGBq2UoQAwg3DFAToUaoVmccEfRCAJ64o5z5zdZCuRU9/8SE7zxAgUokcANoqfB2IZAIvBehcsOAmw8vAwi8UuyJANKourPZB5EbAeFzy6tbLsEuwH7jbGPJhT2AkC1EeFBFOolBThzhdi09JIMQJycw3k0SMCRhM5ZJEquXlJk6sfVlLy75qipGWA/kKvTZIAAgERWg9Kga4H/MscoFAcB+XimDh4uF8EksVCCiVsJXL8Vdh4mipGoFg9AjFDKxlQ7Q4/LJhsnU/LgobZyob9phDTYmHQy9gToK/xq3ggdrRzjOQJ0Cb0ThkDW2uUCDRYjEDhekSgg2GOkaoEyLAgWzD0srUJZ4J64WRg9Fz8OKRBhbj6rWdqYxYIjARqBc0q1UjapESg2WIEStIjgnylyAhOgNnBuGkshSjA+DKMfpRfACgOx8EBJ0khQZ4a9uffK+mhwIoaXNwcbt/EUO8DHASQAXABJdMyJQKNFyNQqh4JMDKy2iRuOYE9yVInAVPmXROA/SFAtYeKHUGGhzBQAd6pPmDnbBZtUSLQBjECth5hrOO1pYFBFaJA2hTvwmRGHC6YHS4ALlhRWqpEoCViBGw9elra174mQT4/rMR469duP4h0fwJOE/2K8lAuDLwt5PJwY6HvfyvYfCLTfMQ89O254Iderz+Wzyt8Ilda+Afpza3tT9icF9gJ21C7lAi0R4yA/fwRrnANZxSL70cbd3u9uxuj7/n/8LekI746HaY2MYI9Y5Rl+27y80STaJUYAVuPEEBlyCUrbeXaGzJekv/x3vNDb3nBGMvCsnd47utI/8PBh32s6N/fOHx7pTu/OR95ywN/NdyRJ0/gg4+vHDzyRldfAh4To0vrh1IE0R88+vLk0v9icP/e8J6/y43hxtfn5hhhoER2QqChz1jH0zYxAgfW+2uIhopOuNDAOFjbh9nY/+ejtOFUueZKg05ZlV5f+UffH3uf9PHP4RcQI18jTv1Pjc+t/fI1idHx1/4P73vHviN15RnRSija5bfe/RvX3yW3u5JK9H94ur/2wyu/DNBBsDjyP18++Gz35Hh3+dYkC7BvnMG2m/jeWRJaKEbg6OhI5hsBhaa0VYyaC0Vnn6w9/sho0JEvBNd87H31nMO0i/01bBk+/4p0x18vvXMlRmblNUPvxJQx1pXW/+aQg7XdX135YgCW88o/B/+35/trA/+woejPTlfPzs5irOUNraOdYgROT0/tzPFqgo+6JCNSjI5H3iOYko/vsRv3vv/R8N4NrOgPH/+xsb/+8KeH5xdV+vZKABOpmXb0HRnWJu/4N7zZb+coMRLP6AJO0Cccpo25SxZ2VwY8o/6nG8/uG4P5ziSwpohRIEk0Pz/frPmJ0tJaMSLkS5AA2lTEjSoSIJvB4421hd6N+963l+cv1yAiC3/0iy+wz8Kj3denu4/6vl78xbH/z63lL/9jZb69EoFp297VfbTLk73Ph/6A4YNmhMhHitHJ/zt5+QdDlv7/Ngqu9LnuhDM/xGPmPvP2rvbpDz9/eXJx8uUjM8z0B4MPY8UItmonidqXrg7TcjECL168kBQSyB2yhT2jW8PhP75aY0xq7sfec7LXC3bOsYlG3Sc/uvJxDKX59kqjgZXaSaJWpqvDtF+MAJxbuLjUteBhri8XhcUo6Bn1l39+yINnSIy++A9l+/ZKo0Fotmq9fnTz5s0WJ4kCdEKMCDtkw7CTtY8jxGjt5ejl5+KM/8FLOPCTxMj7X6X69kqjgU2KQwS6EJrZdEiMAEI2+X4/KC6rrSi5CDhELb5/H0O3xAggZJNPZgMMRBW8y6YoMQQcojt37rT7rtkkOidGBIYdO6udL4ukKBmB1alDJHRUjEDARQJeps9UKUo2YG/qENl0V4yIQBYJBtGdmxdKXYzGv7oOC+yyQyR0XYwI+0YbQNSm83goZYC4DNbFdmaAe95xh0hQMWKOjo7swQo87dinfpRSeffu3dbWFtuWYX5+Xt1wGxWjMQJRG0J6TSQpOYH9BNJDGpdFomIUwfr6un2vTSVJyUxAhmBXKysrvE0ZR8UoGoTxMBqVJCUze6GPFWt6KB4VozhgOvbU2kAlSYmHgrKADMGKjo6OeA9lAipG04EZRUqSprcVm3BuCKgMJUfFKClhSQJP9YvSirlhD0tQGcqJilE6YF6BXBJ4+PCh3qPtJqPRyH6fg1AZyoaKURYovW0/BADu3Lmj6aSOgF7e2dkJJIboTpmmqDOjYpSLzc1Ne+Z/Ah67OkptBa6QPS81gWEJlqAylBMVowJ48eJFOJ1EjpImudsB+jHsCgGsQe/zTko+VIwKIzJ2Aw8ePNjb29PwrYmg19B34awQehl9rYmhYlExKp7t7e2wowRg06pKTQGBdjgcA3CF9E2OklAxKgs4SpEZJaCq5CboEdKgwE16gH5cX1/XrFCpqBiVDj0NEA7fAFRpZ2dH80r1gvaPjMUAem1paUlvR1SDilF1wKZh2ZGq9ODBg62trdFoxLsq5fPmzRvP8+wPJQqqQbWgYlQDsHL4SpERHAIEcpf0we4yoJtiaOFwIAbQI6pBNaJiVCeI4NbX18M3jAkVpkKgKOzp06eT2nl+fh69oLfGakfFyBW2t7cxLEe6SwDC9PDhQ4QVCOU08z0VtBLaapIHBCgQQ5trTtodVIycA0P05ubm4uJiZHaJePDgAYZ6OE2aZiLQDmgNtElkDohAe6JV0bbqBLmJipHTiDBN8pgIBCDwAuALHBwcdCGmQ+Qlvk+M+gAVoAahYtQYEFC8ePFiZWVlfn4+MG1AGFyiFNbt7e3hum3u0wOISXH+qEUS6QFoGbQPWklDsMahYtRUMNTjeiNtignobEihEMvgwqYQD7iQgSLFASQ6W1tbOM+pukPY6qPuT6NRMWoJ5Detr68vLS0llycbXP8EqRUhmmUTHwlSDBWAVIYgrSG47MSQ9KCOqCnqq75Pm1AxajMHBwcU2ZFCxSeeXANnS7pDXo++HN96VIy6CC5sAOcC1znANU+wDFQFyQ0gxSFnB6i/001UjJQIjo6OSBcIka0MiMQQmtZRJqFipCiKE6gYKYriBCpGShr+amXY6/3Wv/rqb3lZUQpDxUhJg4qRUhoqRkoaxsTo4vx/rjz8wQfmztjC4N8fnputhv7v/POdby7/65/+k9/64Hf/6b0+1tz4+3/0l39tjqEokagYKWmwxejyFxv/6IMP7nv//fJvvlr9e73e3d8//N7s9LcnP/uHZvEQYtQbfPaHx693/9lv9+bWvrgw2xUlChUjJQ22GFn/X/z53bne4O7P/8ufLPlekGFw98//0hejofc/3v/frx7/Tq/38cpfqRopE1ExUtIQ4xn1P/03//ofGA3669G/nVMxUtKiYqSk4f/84bK4PnOf/fTF7w1psT/83f988nfHP/kXJoX0wQ9+8KGKkZISFSNFUZxAxUhRFCdQMVIUxQlUjBRFcQIVI0VRnEDFSFEUJ1AxUhTFCVSMFEVxAhUjRVGcQMVIURQnUDFSFMUJVIwURXECFSNFUZxAxUhRFCdQMVIUxQlUjBRFcQIVI0VRnEDFSFEUJ1AxUhTFCVSMFEVxAhUjRVGcQMVIURQnUDFSFMUJVIwURXECFSNFUZxAxUhRFCdQMVIUxQlUjBRFcQIVI0VRnEDFSFEUJ1AxUhTFCVSMFEVxgPfv/z+s6SZTxp4nlwAAAABJRU5ErkJggg==)"
      ]
    },
    {
      "cell_type": "markdown",
      "metadata": {
        "id": "aATAXL19pvsl"
      },
      "source": [
        "#### File opening!"
      ]
    },
    {
      "cell_type": "code",
      "metadata": {
        "colab": {
          "base_uri": "https://localhost:8080/"
        },
        "id": "WrgyIsfhYmaT",
        "outputId": "2988f439-8260-4e64-8daf-aeeabf387627"
      },
      "source": [
        "with open(\"/content/drive/MyDrive/5.pdf\",\"r\") as f:\r\n",
        "    print(f.tell())\r\n",
        "    print(f.seek(17))\r\n",
        "    print(f.readable())"
      ],
      "execution_count": null,
      "outputs": [
        {
          "output_type": "stream",
          "text": [
            "0\n",
            "17\n",
            "True\n"
          ],
          "name": "stdout"
        }
      ]
    },
    {
      "cell_type": "markdown",
      "metadata": {
        "id": "sGoz-k6eqrr3"
      },
      "source": [
        "#### OS and sys !"
      ]
    },
    {
      "cell_type": "markdown",
      "metadata": {
        "id": "h4f_ybGzrtWv"
      },
      "source": [
        "##### Notes:\r\n",
        "    import os,sys\r\n",
        "    fname = \"testing interview!\"\r\n",
        "    if os.path.isfile(fname):\r\n",
        "        print(\"File exists:\",fname)\r\n",
        "        f = open(fname,\"r\")\r\n",
        "    else:\r\n",
        "        print(\"file doestn exist\",fname)\r\n",
        "        sys.exit(0)\r\n",
        "    print(\"The content of the file is \")\r\n",
        "    f = open(fname,\"w\")\r\n",
        "    f.write(\"Hello fellow human\")\r\n",
        "    data = f.read()\r\n",
        "    print(data)"
      ]
    },
    {
      "cell_type": "markdown",
      "metadata": {
        "id": "3CQMH81ZtlXb"
      },
      "source": [
        "![pickling.png](data:image/png;base64,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)"
      ]
    },
    {
      "cell_type": "markdown",
      "metadata": {
        "id": "pxGjUirOspKi"
      },
      "source": [
        "#### Pickling and unpickling!\r\n",
        "    •Sometimes we have to write total state of object and we have to read total object from file as a byte stream not human readable also called as serialization!\r\n",
        "    •Note:it wont save the object code but onl its attrivutes\r\n",
        "    •The process of writing state of object to the file id called pickling and process of reading state is of an object is called unpickling\r\n",
        "        •pickle.dump(object,file)\r\n",
        "        •obj = pickle.load(file)\r\n",
        "\r\n"
      ]
    },
    {
      "cell_type": "markdown",
      "metadata": {
        "id": "4-jnT8AAtol_"
      },
      "source": [
        "![pickling.png](data:image/png;base64,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)"
      ]
    },
    {
      "cell_type": "code",
      "metadata": {
        "colab": {
          "base_uri": "https://localhost:8080/"
        },
        "id": "_TQzFYMHlkUD",
        "outputId": "01b7a956-0b58-4ca3-81de-3c916717bf3d"
      },
      "source": [
        "import pickle\r\n",
        "class employee:\r\n",
        "    def __init__(self,eno,ename,esal,eaddr):\r\n",
        "        self.eno = eno\r\n",
        "        self.ename =ename\r\n",
        "        self.esal = esal\r\n",
        "        self.eaddr = eaddr\r\n",
        "    def display(self):\r\n",
        "        print(self.eno,\"\\t\",self.ename,\"\\t\",self.esal,\"\\t\",self.eaddr)\r\n",
        "with open(\"emp.dat\",\"wb\") as f:\r\n",
        "    e=employee(100,\"Durga\",1000,\"Hyd\")\r\n",
        "    pickle.dump(e,f)\r\n",
        "    print(\"Pickle dumping done!\")\r\n",
        "with open(\"emp.dat\",\"rb\") as f:\r\n",
        "    obj = pickle.load(f)\r\n",
        "    print(\"Prinitng Employees information\")\r\n",
        "    print()\r\n",
        "    obj.display()"
      ],
      "execution_count": null,
      "outputs": [
        {
          "output_type": "stream",
          "text": [
            "Pickle dumping done!\n",
            "Prinitng Employees information\n",
            "\n",
            "100 \t Durga \t 1000 \t Hyd\n"
          ],
          "name": "stdout"
        }
      ]
    },
    {
      "cell_type": "markdown",
      "metadata": {
        "id": "-1aUP7g3vHHh"
      },
      "source": [
        "#### Exceptin handling:\r\n",
        "    1.syntax error\r\n",
        "    2.runtime error\r\n",
        "    Use try: except: else: finally:\r\n",
        "    Use \"raise\" to raise ur own exception "
      ]
    },
    {
      "cell_type": "markdown",
      "metadata": {
        "id": "zQA6m3HfvcMi"
      },
      "source": [
        "![Eception hierichy.png](data:image/png;base64,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)"
      ]
    },
    {
      "cell_type": "markdown",
      "metadata": {
        "id": "-ICC5QrFv-jS"
      },
      "source": [
        "### OOPS:"
      ]
    },
    {
      "cell_type": "markdown",
      "metadata": {
        "id": "puvMfTjXwz9A"
      },
      "source": [
        "#### Class:\r\n",
        "    Its the physical representation of object!\r\n",
        "    Class is a blue print throw which objects are created\r\n",
        "    Class consistes of \r\n",
        "        ♦Properties as Variables\r\n",
        "        •actions as Method\r\n",
        "\r\n"
      ]
    },
    {
      "cell_type": "markdown",
      "metadata": {
        "id": "sIaFvtlQzGqI"
      },
      "source": [
        "#### Constructor Vs destructor!"
      ]
    },
    {
      "cell_type": "markdown",
      "metadata": {
        "id": "NyWzTzR7xqX8"
      },
      "source": [
        "#### Variables:\r\n",
        "    1.Instance variable(Object Level variable)\r\n",
        "        1.Using constructor using self\r\n",
        "            No need to give any\r\n",
        "            def __init__(self):\r\n",
        "                self.no =100\r\n",
        "                self.ename =\"vijay\"\r\n",
        "        2.inside instance method using self\r\n",
        "            def m1(self):\r\n",
        "                self.c = 30\r\n",
        "            t.m1()\r\n",
        "            creates a new variable!\r\n",
        "        3.Outside of the class by using object regerence variable!\r\n",
        "            outside:\r\n",
        "            t.d = 50 \r\n",
        "            for outside!\r\n",
        "    2.static variable(Class Level Variable)\r\n",
        "        class Test:\r\n",
        "            a = 100 #static variable!\r\n",
        "            def __init__(Self,...\r\n",
        "    3.Local variables(Method Level Variables"
      ]
    },
    {
      "cell_type": "code",
      "metadata": {
        "id": "T9eaQz8D28oX"
      },
      "source": [
        "class Test:\r\n",
        "    a = 10\r\n",
        "    def __init__(self):\r\n",
        "        Test.b = 20\r\n",
        "    def m1(self):\r\n",
        "        Test.c = 30\r\n",
        "    @classmethod\r\n",
        "    def m2(cls):\r\n",
        "        cls.a=35\r\n",
        "        Test.e = 45\r\n",
        "    @staticmethod\r\n",
        "    def m3():\r\n",
        "        Test.f = 68"
      ],
      "execution_count": null,
      "outputs": []
    },
    {
      "cell_type": "markdown",
      "metadata": {
        "id": "O_M6C10myefx"
      },
      "source": [
        "#### Method:\r\n",
        "    1.Instance Method(Object Level variable)\r\n",
        "        def m1()\r\n",
        "        getter and setter methods!\r\n",
        "    2.static method(Method Level Variable)\r\n",
        "        @staticmethod\r\n",
        "        we wont use nay instances or class variable! @important\r\n",
        "    3.class method(Class Level Variables)\r\n",
        "        Inside method implementation we use only class variables!\r\n",
        "        @classmethod\r\n",
        "        def  walk(cls,name):\r\n",
        "            cls.x =  "
      ]
    },
    {
      "cell_type": "markdown",
      "metadata": {
        "id": "DWt4t7cQ91WN"
      },
      "source": [
        "### Polymorphism!\r\n",
        "    1.Ducktyping philosophy\r\n",
        "    2.Overloading\r\n",
        "        1.Operator overloading\r\n",
        "        2.Method overloading\r\n",
        "        3.Constructor overloading\r\n",
        "    3.Overriding\r\n",
        "        1.Method overriding\r\n",
        "        2.constructor overloading!"
      ]
    },
    {
      "cell_type": "markdown",
      "metadata": {
        "id": "RuIhFEsa-NRH"
      },
      "source": [
        "#### Ducktyping!\r\n",
        "    In python we cant speficify type explicitely the type is automatically considered.Hence its dynamically types!\r\n",
        "    At runtime if it talks like duck and walks like ducj then it must be duck!\r\n",
        "    this is called duck typing philosophy of python!"
      ]
    },
    {
      "cell_type": "markdown",
      "metadata": {
        "id": "u_SV8km2O8hI"
      },
      "source": [
        "#### IMportant note stupi:\r\n",
        "    The reason why method or constructor overloading is not posible in python is due to dynamic nature in python! remember !"
      ]
    },
    {
      "cell_type": "markdown",
      "metadata": {
        "id": "jqEj3GWUAAIZ"
      },
      "source": [
        "#### Overloading:\r\n",
        "    Eg1: + operator can be used for Arithmetic addition and String concatenation\r\n",
        "    print(10+20)#30\r\n",
        "    print('durga'+'soft')#durgasoft\r\n",
        "    Eg2: * operator can be used for multiplication and string repetition purposes.\r\n",
        "    print(10*20)#200\r\n",
        "    print('durga'*3)#durgadurgadurga"
      ]
    },
    {
      "cell_type": "markdown",
      "metadata": {
        "id": "niJe8b_KALcH"
      },
      "source": [
        "##### Operator overloading"
      ]
    },
    {
      "cell_type": "code",
      "metadata": {
        "colab": {
          "base_uri": "https://localhost:8080/"
        },
        "id": "cHwnJESFAK6_",
        "outputId": "95466b22-b53b-41bd-c570-d11f39191078"
      },
      "source": [
        "class Book:\r\n",
        "    def __init__(self,pages):\r\n",
        "        self.pages = pages\r\n",
        "    #if we didnt add this then it throws error!\r\n",
        "    def __add__(self,other):\r\n",
        "        return self.pages+other.pages\r\n",
        "\r\n",
        "b1 = Book(100)\r\n",
        "b2=  Book(200)\r\n",
        "print(b1+b2)"
      ],
      "execution_count": null,
      "outputs": [
        {
          "output_type": "stream",
          "text": [
            "300\n"
          ],
          "name": "stdout"
        }
      ]
    },
    {
      "cell_type": "markdown",
      "metadata": {
        "id": "Mp6z4YpGCfGB"
      },
      "source": [
        "##### Method Overloading!\r\n",
        "    if 2 methods have same name but different arguements then last \r\n",
        "\r\n",
        "    Note:\r\n",
        "        Python method overloading is not possible!\r\n",
        "        only last method is considered!"
      ]
    },
    {
      "cell_type": "code",
      "metadata": {
        "colab": {
          "base_uri": "https://localhost:8080/"
        },
        "id": "vnVF6F0w__o-",
        "outputId": "60106460-adfb-4c5e-c6b3-bb0cb190d2b7"
      },
      "source": [
        "class test:\r\n",
        "    def check(self,a):\r\n",
        "        print(\"checked\")\r\n",
        "    def check(self,a):\r\n",
        "        print(\"checked2\")\r\n",
        "t =test()\r\n",
        "t.check(3)\r\n"
      ],
      "execution_count": null,
      "outputs": [
        {
          "output_type": "stream",
          "text": [
            "checked2\n"
          ],
          "name": "stdout"
        }
      ]
    },
    {
      "cell_type": "code",
      "metadata": {
        "id": "Sm8hw-j_geaP",
        "colab": {
          "base_uri": "https://localhost:8080/"
        },
        "outputId": "6d9bc97d-882d-4288-c9d7-bcc53dc7c9a0"
      },
      "source": [
        "try:\r\n",
        "    class test:\r\n",
        "        def check(self,a):\r\n",
        "            print(\"checked\")\r\n",
        "        def check(self,a,c):\r\n",
        "            print(\"checked2\")\r\n",
        "    t =test()\r\n",
        "    t.check(3)\r\n",
        "except:\r\n",
        "    print(\"Error\")"
      ],
      "execution_count": null,
      "outputs": [
        {
          "output_type": "stream",
          "text": [
            "Error\n"
          ],
          "name": "stdout"
        }
      ]
    },
    {
      "cell_type": "markdown",
      "metadata": {
        "id": "fqykdi5HEy-A"
      },
      "source": [
        "##### Constructor overloading:\r\n",
        "    Its not possible in python!\r\n",
        "    only last one is considered!"
      ]
    },
    {
      "cell_type": "markdown",
      "metadata": {
        "id": "u64NuVxrFkq4"
      },
      "source": [
        "#### Overriding!"
      ]
    },
    {
      "cell_type": "markdown",
      "metadata": {
        "id": "yBvEJeOtFzIY"
      },
      "source": [
        "##### Method Overriding!\r\n",
        "    What ever members available in the parent class are bydefault available to the child class through\r\n",
        "    inheritance. If the child class not satisfied with parent class implementation then child class is\r\n",
        "    allowed to redefine that method in the child class based on its requirement. This concept is called\r\n",
        "    overriding.\r\n",
        "    Overriding concept applicable for both methods and constructors."
      ]
    },
    {
      "cell_type": "code",
      "metadata": {
        "colab": {
          "base_uri": "https://localhost:8080/"
        },
        "id": "Lk0nsvFSFySH",
        "outputId": "a1339523-6a34-4c14-cb53-19e2bd9eb607"
      },
      "source": [
        "class P:\r\n",
        "    def property(self):\r\n",
        "        print(\"Gold \"+\"and \"+\"Cash \"+\"Power\")\r\n",
        "    def marry(self):\r\n",
        "        print(\"Dont know\")\r\n",
        "class C(P):\r\n",
        "    def marry(self):\r\n",
        "        print(\"May be!\")\r\n",
        "c = C()\r\n",
        "c.property()\r\n",
        "print(\"-\"*10+\"see inherited !\"+ \"-\"*10)\r\n",
        "c.marry()"
      ],
      "execution_count": null,
      "outputs": [
        {
          "output_type": "stream",
          "text": [
            "Gold and Cash Power\n",
            "----------see inherited !----------\n",
            "May be!\n"
          ],
          "name": "stdout"
        }
      ]
    },
    {
      "cell_type": "markdown",
      "metadata": {
        "id": "SXeoE3WTHMKH"
      },
      "source": [
        "Constructor !"
      ]
    },
    {
      "cell_type": "code",
      "metadata": {
        "colab": {
          "base_uri": "https://localhost:8080/"
        },
        "id": "qSlL3Pqg_ui7",
        "outputId": "2fabfd60-0d22-4733-abb5-4ffc45c82a79"
      },
      "source": [
        "class P:\r\n",
        "    def __init__(self):\r\n",
        "        print(\"Parent Constructor\")\r\n",
        "class C(P):\r\n",
        "    def __init__(Self):\r\n",
        "        print(\"child Constructor\")\r\n",
        "c = C()"
      ],
      "execution_count": null,
      "outputs": [
        {
          "output_type": "stream",
          "text": [
            "child Constructor\n"
          ],
          "name": "stdout"
        }
      ]
    },
    {
      "cell_type": "markdown",
      "metadata": {
        "id": "SB4NTvuTIRlb"
      },
      "source": [
        "### Multi Threading!"
      ]
    },
    {
      "cell_type": "markdown",
      "metadata": {
        "id": "n0ZG3JMndKtX"
      },
      "source": [
        "##### Multi tasking:\r\n",
        "    ♦Process based multi threading\r\n",
        "        each task is independent process \r\n",
        "    ♦Thread based multi threading\r\n",
        "        independent part of same program"
      ]
    },
    {
      "cell_type": "markdown",
      "metadata": {
        "id": "YkS3GYRmfY_u"
      },
      "source": [
        "We can create thread using 3 ways:\r\n",
        "\r\n",
        "\r\n",
        "*   Thread using a class\r\n",
        "*   Thread using extended thread class\r\n",
        "*   Thread without extending thread class\r\n",
        "\r\n"
      ]
    },
    {
      "cell_type": "markdown",
      "metadata": {
        "id": "JbibvwjQgFOx"
      },
      "source": [
        "######Thread using a class:\r\n",
        "    If multiple threads present in our program, then we cannot expect execution order and hence we\r\n",
        "    cannot expect exact output for the multi threaded programs. B'z of this we cannot provide exact\r\n",
        "    output for the above program.It is varied from machine to machine and run to run."
      ]
    },
    {
      "cell_type": "code",
      "metadata": {
        "id": "VRZ_9spYnktl"
      },
      "source": [
        "##Note: use t.start() then t.join() to make it sequuece"
      ],
      "execution_count": null,
      "outputs": []
    },
    {
      "cell_type": "code",
      "metadata": {
        "colab": {
          "base_uri": "https://localhost:8080/"
        },
        "id": "9G7kFVuOfYse",
        "outputId": "057a4fa0-0189-445d-e869-3a2d05fa30ee"
      },
      "source": [
        "from threading import *\r\n",
        "def display():\r\n",
        "    for i in range(1,11):\r\n",
        "        print(\"Child thread \\t\",end=\" \")\r\n",
        "print(\"Throws randomly :\")\r\n",
        "t=Thread(target=display)\r\n",
        "t.start()\r\n",
        "for i in range(-10,-1):\r\n",
        "    print(\"Main thread \\t\",end=\" \")"
      ],
      "execution_count": null,
      "outputs": [
        {
          "output_type": "stream",
          "text": [
            "Throws randomly :\n",
            "Child thread \tMain thread \t Main thread \t Main thread \t Main thread \t Main thread \t Main thread \t Main thread \t Main thread \t Main thread \t  Child thread \t"
          ],
          "name": "stdout"
        }
      ]
    },
    {
      "cell_type": "markdown",
      "metadata": {
        "id": "9XNCYGG2hPQB"
      },
      "source": [
        "#####Create a thread using extended thread class:\r\n",
        "    We have to create child class for Thread class. In that child class we have to override run() method\r\n",
        "    with our required job. Whenever we call start() method then automatically run() method will be\r\n",
        "    executed and performs our job.\r\n"
      ]
    },
    {
      "cell_type": "code",
      "metadata": {
        "colab": {
          "base_uri": "https://localhost:8080/"
        },
        "id": "giDq-B8ZhNdI",
        "outputId": "f76e18c8-155f-4b97-dc66-701db7e04632"
      },
      "source": [
        "from threading import *\r\n",
        "class thread(Thread):\r\n",
        "    def run(Self):\r\n",
        "        for i in range(10):\r\n",
        "            print(\"child-thread \",end =\" \")\r\n",
        "t = thread()\r\n",
        "t.start()\r\n",
        "for i in range(1,10):\r\n",
        "    print(\"Main-thread \",end=\" \")\r\n"
      ],
      "execution_count": null,
      "outputs": [
        {
          "output_type": "stream",
          "text": [
            " Child thread \t Child thread \t Child thread \t Child thread \t Child thread \t Child thread \t Child thread \t Child thread \t child-thread Main-thread  Main-thread  Main-thread  Main-thread  Main-thread  Main-thread  Main-thread  Main-thread  Main-thread   child-thread  child-thread  "
          ],
          "name": "stdout"
        }
      ]
    },
    {
      "cell_type": "markdown",
      "metadata": {
        "id": "Z-LCipBOlOrP"
      },
      "source": [
        "Without extending thread class"
      ]
    },
    {
      "cell_type": "code",
      "metadata": {
        "colab": {
          "base_uri": "https://localhost:8080/"
        },
        "id": "R54oAE-ldPPd",
        "outputId": "c2789fc0-14cc-4df8-ed01-9103ccb03e73"
      },
      "source": [
        "from threading import *\r\n",
        "class Test:\r\n",
        "    def display(self):\r\n",
        "        for i in range(10):\r\n",
        "            print(\"child-class\",end=\" \")\r\n",
        "obj = Test()\r\n",
        "t =Thread(target=obj.display)\r\n",
        "t.start()"
      ],
      "execution_count": null,
      "outputs": [
        {
          "output_type": "stream",
          "text": [
            "child-thread  child-thread  child-thread  child-thread  child-thread  child-thread  child-thread  child-class child-class child-class "
          ],
          "name": "stdout"
        }
      ]
    },
    {
      "cell_type": "code",
      "metadata": {
        "colab": {
          "base_uri": "https://localhost:8080/"
        },
        "id": "bZtoyYKGIRD0",
        "outputId": "045486a5-b7a9-478e-9a23-c7906f7c4aba"
      },
      "source": [
        "print(t.getName())\r\n",
        "print(t.setName(\"Vijay\"))\r\n",
        "print(t.getName())"
      ],
      "execution_count": null,
      "outputs": [
        {
          "output_type": "stream",
          "text": [
            "Thread-23child-class child-class child-class \n",
            "child-classNone child-class child-class child-class \n",
            "Vijay\n"
          ],
          "name": "stdout"
        }
      ]
    },
    {
      "cell_type": "markdown",
      "metadata": {
        "id": "8EDUDDIBmWMx"
      },
      "source": [
        "No of active counts: \r\n",
        "*    isAlive():\r\n",
        "*    active_counts()\r\n",
        "\r\n"
      ]
    },
    {
      "cell_type": "code",
      "metadata": {
        "colab": {
          "base_uri": "https://localhost:8080/"
        },
        "id": "20s8otbv_uWd",
        "outputId": "cddc1cd6-7636-46d2-c5ff-60a1c2b515f9"
      },
      "source": [
        "print(\"No of threads currently running :\",active_count())"
      ],
      "execution_count": null,
      "outputs": [
        {
          "output_type": "stream",
          "text": [
            "No of threads currently running : 5\n"
          ],
          "name": "stdout"
        }
      ]
    },
    {
      "cell_type": "code",
      "metadata": {
        "colab": {
          "base_uri": "https://localhost:8080/"
        },
        "id": "zTZRMGNlmwW8",
        "outputId": "572b4b91-dddf-4a57-8887-5ec6834abab3"
      },
      "source": [
        "class thread(Thread):\r\n",
        "    def run(Self):\r\n",
        "        for i in range(10):\r\n",
        "            print(\"child-thread \",end =\" \")\r\n",
        "t = thread()\r\n",
        "t.start()\r\n",
        "t.join(0) #if 1 joins in 1 sec soon\r\n",
        "for i in range(1,10):\r\n",
        "    print(\"Main-thread \",end=\" \")\r\n"
      ],
      "execution_count": null,
      "outputs": [
        {
          "output_type": "stream",
          "text": [
            "child-thread Main-thread  Main-thread  Main-thread  Main-thread  Main-thread  Main-thread  Main-thread  Main-thread  Main-thread   child-thread  child-thread  "
          ],
          "name": "stdout"
        }
      ]
    },
    {
      "cell_type": "markdown",
      "metadata": {
        "id": "7dvSatkFoB5d"
      },
      "source": [
        "##### Deamon threading:\r\n",
        "    threads running in background is called deamon threading\r\n",
        "        Ex:Garbage collector!\r\n",
        "    commands:\r\n",
        "        .isdaemon() ,daemon(), .setDeamon()"
      ]
    },
    {
      "cell_type": "code",
      "metadata": {
        "colab": {
          "base_uri": "https://localhost:8080/"
        },
        "id": "KICVUlEamwKD",
        "outputId": "24f6efd3-a6ea-46ef-9994-141e4ebe5be6"
      },
      "source": [
        ""
      ],
      "execution_count": null,
      "outputs": [
        {
          "output_type": "stream",
          "text": [
            "child-thread  child-thread  child-thread  child-thread  child-thread  child-thread  child-thread  "
          ],
          "name": "stdout"
        }
      ]
    },
    {
      "cell_type": "code",
      "metadata": {
        "id": "PgOgeaHymwF3"
      },
      "source": [
        ""
      ],
      "execution_count": null,
      "outputs": []
    },
    {
      "cell_type": "code",
      "metadata": {
        "id": "gywuLEmimv_l"
      },
      "source": [
        ""
      ],
      "execution_count": null,
      "outputs": []
    },
    {
      "cell_type": "code",
      "metadata": {
        "id": "JDgRMd7pmvwf"
      },
      "source": [
        ""
      ],
      "execution_count": null,
      "outputs": []
    },
    {
      "cell_type": "code",
      "metadata": {
        "id": "us92HYYnhcTp"
      },
      "source": [
        ""
      ],
      "execution_count": null,
      "outputs": []
    },
    {
      "cell_type": "code",
      "metadata": {
        "id": "QhhoqoUiluc8"
      },
      "source": [
        ""
      ],
      "execution_count": null,
      "outputs": []
    },
    {
      "cell_type": "markdown",
      "metadata": {
        "id": "V5kRo3Qpo5sY"
      },
      "source": [
        "# SQL"
      ]
    },
    {
      "cell_type": "code",
      "metadata": {
        "id": "JaTHeLpro7jg"
      },
      "source": [
        ""
      ],
      "execution_count": null,
      "outputs": []
    },
    {
      "cell_type": "markdown",
      "metadata": {
        "id": "VY7MyWCjpTYn"
      },
      "source": [
        "# Data science"
      ]
    },
    {
      "cell_type": "markdown",
      "metadata": {
        "id": "_g3US746pPM9"
      },
      "source": [
        "# Machine learning"
      ]
    },
    {
      "cell_type": "markdown",
      "metadata": {
        "id": "xVGG161Ko8a-"
      },
      "source": [
        "# Data studio"
      ]
    },
    {
      "cell_type": "markdown",
      "metadata": {
        "id": "CR4X4mryqHMv"
      },
      "source": [
        "### Applications dash board"
      ]
    },
    {
      "cell_type": "code",
      "metadata": {
        "colab": {
          "base_uri": "https://localhost:8080/",
          "height": 821
        },
        "id": "LnI_4WW7pcT_",
        "outputId": "10cd78f8-e77a-485c-b4b5-d49369c1cd19"
      },
      "source": [
        "%%html\r\n",
        "<iframe width=\"1000\" height=\"800\" src=\"https://datastudio.google.com/embed/reporting/74329d03-2a05-4bf4-a7ef-b0288c4bda74/page/xLITB\" frameborder=\"1\" style=\"border:0\" allowfullscreen></iframe>"
      ],
      "execution_count": null,
      "outputs": [
        {
          "output_type": "display_data",
          "data": {
            "text/html": [
              "<iframe width=\"1000\" height=\"800\" src=\"https://datastudio.google.com/embed/reporting/74329d03-2a05-4bf4-a7ef-b0288c4bda74/page/xLITB\" frameborder=\"1\" style=\"border:0\" allowfullscreen></iframe>"
            ],
            "text/plain": [
              "<IPython.core.display.HTML object>"
            ]
          },
          "metadata": {
            "tags": []
          }
        }
      ]
    },
    {
      "cell_type": "markdown",
      "metadata": {
        "id": "-hwQ980ypvyJ"
      },
      "source": [
        "### Sales force report"
      ]
    },
    {
      "cell_type": "code",
      "metadata": {
        "colab": {
          "base_uri": "https://localhost:8080/",
          "height": 821
        },
        "id": "gXsEeqtQpkNe",
        "outputId": "9ac09da4-3c0b-4c74-cd99-77039f107ccf"
      },
      "source": [
        "%%html\r\n",
        "<iframe width=\"1000\" height=\"800\" src=\"https://datastudio.google.com/embed/reporting/c2d7299e-f9ae-4574-bac8-35955c2c29b5/page/aCbvB\" frameborder=\"0\" style=\"border:0\" allowfullscreen></iframe>"
      ],
      "execution_count": null,
      "outputs": [
        {
          "output_type": "display_data",
          "data": {
            "text/html": [
              "<iframe width=\"1000\" height=\"800\" src=\"https://datastudio.google.com/embed/reporting/c2d7299e-f9ae-4574-bac8-35955c2c29b5/page/aCbvB\" frameborder=\"0\" style=\"border:0\" allowfullscreen></iframe>"
            ],
            "text/plain": [
              "<IPython.core.display.HTML object>"
            ]
          },
          "metadata": {
            "tags": []
          }
        }
      ]
    },
    {
      "cell_type": "code",
      "metadata": {
        "id": "6azl6e2Jpz_P"
      },
      "source": [
        ""
      ],
      "execution_count": null,
      "outputs": []
    }
  ]
}